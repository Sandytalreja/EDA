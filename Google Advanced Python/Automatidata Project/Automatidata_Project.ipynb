{
  "nbformat": 4,
  "nbformat_minor": 0,
  "metadata": {
    "colab": {
      "provenance": []
    },
    "kernelspec": {
      "name": "python3",
      "display_name": "Python 3"
    },
    "language_info": {
      "name": "python"
    }
  },
  "cells": [
    {
      "cell_type": "markdown",
      "source": [
        "The purpose of this project is to conduct exploratory data analysis on a provided data set. Your mission is to continue the investigation you began in C2 and perform further EDA on this data with the aim of learning more about the variables.\n",
        "\n",
        "The goal is to clean data set and create a visualization.\n",
        "\n",
        "This activity has 4 parts:\n",
        "\n",
        "Part 1: Imports, links, and loading\n",
        "\n",
        "Part 2: Data Exploration\n",
        "\n",
        "*   Data Cleaning\n",
        "\n",
        "Part 3: Building visualizations\n",
        "\n",
        "Part 4: Evaluate and share results"
      ],
      "metadata": {
        "id": "RpdK003AuIUg"
      }
    },
    {
      "cell_type": "code",
      "source": [
        "import pandas as pd\n",
        "import numpy as np\n",
        "import matplotlib.pyplot as plt\n",
        "import seaborn as sns\n",
        "import datetime as dt"
      ],
      "metadata": {
        "id": "MOTOVWCEuKTt"
      },
      "execution_count": 3,
      "outputs": []
    },
    {
      "cell_type": "code",
      "source": [
        "df = pd.read_csv('/content/2017_Yellow_Taxi_Trip_Data (1).csv')"
      ],
      "metadata": {
        "id": "JYxClHtAwc51"
      },
      "execution_count": 4,
      "outputs": []
    },
    {
      "cell_type": "code",
      "source": [
        "df.head(10)"
      ],
      "metadata": {
        "colab": {
          "base_uri": "https://localhost:8080/",
          "height": 400
        },
        "id": "E-pABn0nw7NK",
        "outputId": "ff9a5910-7109-472f-f7ec-172d4e8264e0"
      },
      "execution_count": 5,
      "outputs": [
        {
          "output_type": "execute_result",
          "data": {
            "text/plain": [
              "   Unnamed: 0  VendorID    tpep_pickup_datetime   tpep_dropoff_datetime  \\\n",
              "0    24870114         2   03/25/2017 8:55:43 AM   03/25/2017 9:09:47 AM   \n",
              "1    35634249         1   04/11/2017 2:53:28 PM   04/11/2017 3:19:58 PM   \n",
              "2   106203690         1   12/15/2017 7:26:56 AM   12/15/2017 7:34:08 AM   \n",
              "3    38942136         2   05/07/2017 1:17:59 PM   05/07/2017 1:48:14 PM   \n",
              "4    30841670         2  04/15/2017 11:32:20 PM  04/15/2017 11:49:03 PM   \n",
              "5    23345809         2   03/25/2017 8:34:11 PM   03/25/2017 8:42:11 PM   \n",
              "6    37660487         2   05/03/2017 7:04:09 PM   05/03/2017 8:03:47 PM   \n",
              "7    69059411         2   08/15/2017 5:41:06 PM   08/15/2017 6:03:05 PM   \n",
              "8     8433159         2   02/04/2017 4:17:07 PM   02/04/2017 4:29:14 PM   \n",
              "9    95294817         1   11/10/2017 3:20:29 PM   11/10/2017 3:40:55 PM   \n",
              "\n",
              "   passenger_count  trip_distance  RatecodeID store_and_fwd_flag  \\\n",
              "0                6           3.34           1                  N   \n",
              "1                1           1.80           1                  N   \n",
              "2                1           1.00           1                  N   \n",
              "3                1           3.70           1                  N   \n",
              "4                1           4.37           1                  N   \n",
              "5                6           2.30           1                  N   \n",
              "6                1          12.83           1                  N   \n",
              "7                1           2.98           1                  N   \n",
              "8                1           1.20           1                  N   \n",
              "9                1           1.60           1                  N   \n",
              "\n",
              "   PULocationID  DOLocationID  payment_type  fare_amount  extra  mta_tax  \\\n",
              "0           100           231             1         13.0    0.0      0.5   \n",
              "1           186            43             1         16.0    0.0      0.5   \n",
              "2           262           236             1          6.5    0.0      0.5   \n",
              "3           188            97             1         20.5    0.0      0.5   \n",
              "4             4           112             2         16.5    0.5      0.5   \n",
              "5           161           236             1          9.0    0.5      0.5   \n",
              "6            79           241             1         47.5    1.0      0.5   \n",
              "7           237           114             1         16.0    1.0      0.5   \n",
              "8           234           249             2          9.0    0.0      0.5   \n",
              "9           239           237             1         13.0    0.0      0.5   \n",
              "\n",
              "   tip_amount  tolls_amount  improvement_surcharge  total_amount  \n",
              "0        2.76           0.0                    0.3         16.56  \n",
              "1        4.00           0.0                    0.3         20.80  \n",
              "2        1.45           0.0                    0.3          8.75  \n",
              "3        6.39           0.0                    0.3         27.69  \n",
              "4        0.00           0.0                    0.3         17.80  \n",
              "5        2.06           0.0                    0.3         12.36  \n",
              "6        9.86           0.0                    0.3         59.16  \n",
              "7        1.78           0.0                    0.3         19.58  \n",
              "8        0.00           0.0                    0.3          9.80  \n",
              "9        2.75           0.0                    0.3         16.55  "
            ],
            "text/html": [
              "\n",
              "  <div id=\"df-f04fe078-8648-4b26-a3e2-706862e4a4df\" class=\"colab-df-container\">\n",
              "    <div>\n",
              "<style scoped>\n",
              "    .dataframe tbody tr th:only-of-type {\n",
              "        vertical-align: middle;\n",
              "    }\n",
              "\n",
              "    .dataframe tbody tr th {\n",
              "        vertical-align: top;\n",
              "    }\n",
              "\n",
              "    .dataframe thead th {\n",
              "        text-align: right;\n",
              "    }\n",
              "</style>\n",
              "<table border=\"1\" class=\"dataframe\">\n",
              "  <thead>\n",
              "    <tr style=\"text-align: right;\">\n",
              "      <th></th>\n",
              "      <th>Unnamed: 0</th>\n",
              "      <th>VendorID</th>\n",
              "      <th>tpep_pickup_datetime</th>\n",
              "      <th>tpep_dropoff_datetime</th>\n",
              "      <th>passenger_count</th>\n",
              "      <th>trip_distance</th>\n",
              "      <th>RatecodeID</th>\n",
              "      <th>store_and_fwd_flag</th>\n",
              "      <th>PULocationID</th>\n",
              "      <th>DOLocationID</th>\n",
              "      <th>payment_type</th>\n",
              "      <th>fare_amount</th>\n",
              "      <th>extra</th>\n",
              "      <th>mta_tax</th>\n",
              "      <th>tip_amount</th>\n",
              "      <th>tolls_amount</th>\n",
              "      <th>improvement_surcharge</th>\n",
              "      <th>total_amount</th>\n",
              "    </tr>\n",
              "  </thead>\n",
              "  <tbody>\n",
              "    <tr>\n",
              "      <th>0</th>\n",
              "      <td>24870114</td>\n",
              "      <td>2</td>\n",
              "      <td>03/25/2017 8:55:43 AM</td>\n",
              "      <td>03/25/2017 9:09:47 AM</td>\n",
              "      <td>6</td>\n",
              "      <td>3.34</td>\n",
              "      <td>1</td>\n",
              "      <td>N</td>\n",
              "      <td>100</td>\n",
              "      <td>231</td>\n",
              "      <td>1</td>\n",
              "      <td>13.0</td>\n",
              "      <td>0.0</td>\n",
              "      <td>0.5</td>\n",
              "      <td>2.76</td>\n",
              "      <td>0.0</td>\n",
              "      <td>0.3</td>\n",
              "      <td>16.56</td>\n",
              "    </tr>\n",
              "    <tr>\n",
              "      <th>1</th>\n",
              "      <td>35634249</td>\n",
              "      <td>1</td>\n",
              "      <td>04/11/2017 2:53:28 PM</td>\n",
              "      <td>04/11/2017 3:19:58 PM</td>\n",
              "      <td>1</td>\n",
              "      <td>1.80</td>\n",
              "      <td>1</td>\n",
              "      <td>N</td>\n",
              "      <td>186</td>\n",
              "      <td>43</td>\n",
              "      <td>1</td>\n",
              "      <td>16.0</td>\n",
              "      <td>0.0</td>\n",
              "      <td>0.5</td>\n",
              "      <td>4.00</td>\n",
              "      <td>0.0</td>\n",
              "      <td>0.3</td>\n",
              "      <td>20.80</td>\n",
              "    </tr>\n",
              "    <tr>\n",
              "      <th>2</th>\n",
              "      <td>106203690</td>\n",
              "      <td>1</td>\n",
              "      <td>12/15/2017 7:26:56 AM</td>\n",
              "      <td>12/15/2017 7:34:08 AM</td>\n",
              "      <td>1</td>\n",
              "      <td>1.00</td>\n",
              "      <td>1</td>\n",
              "      <td>N</td>\n",
              "      <td>262</td>\n",
              "      <td>236</td>\n",
              "      <td>1</td>\n",
              "      <td>6.5</td>\n",
              "      <td>0.0</td>\n",
              "      <td>0.5</td>\n",
              "      <td>1.45</td>\n",
              "      <td>0.0</td>\n",
              "      <td>0.3</td>\n",
              "      <td>8.75</td>\n",
              "    </tr>\n",
              "    <tr>\n",
              "      <th>3</th>\n",
              "      <td>38942136</td>\n",
              "      <td>2</td>\n",
              "      <td>05/07/2017 1:17:59 PM</td>\n",
              "      <td>05/07/2017 1:48:14 PM</td>\n",
              "      <td>1</td>\n",
              "      <td>3.70</td>\n",
              "      <td>1</td>\n",
              "      <td>N</td>\n",
              "      <td>188</td>\n",
              "      <td>97</td>\n",
              "      <td>1</td>\n",
              "      <td>20.5</td>\n",
              "      <td>0.0</td>\n",
              "      <td>0.5</td>\n",
              "      <td>6.39</td>\n",
              "      <td>0.0</td>\n",
              "      <td>0.3</td>\n",
              "      <td>27.69</td>\n",
              "    </tr>\n",
              "    <tr>\n",
              "      <th>4</th>\n",
              "      <td>30841670</td>\n",
              "      <td>2</td>\n",
              "      <td>04/15/2017 11:32:20 PM</td>\n",
              "      <td>04/15/2017 11:49:03 PM</td>\n",
              "      <td>1</td>\n",
              "      <td>4.37</td>\n",
              "      <td>1</td>\n",
              "      <td>N</td>\n",
              "      <td>4</td>\n",
              "      <td>112</td>\n",
              "      <td>2</td>\n",
              "      <td>16.5</td>\n",
              "      <td>0.5</td>\n",
              "      <td>0.5</td>\n",
              "      <td>0.00</td>\n",
              "      <td>0.0</td>\n",
              "      <td>0.3</td>\n",
              "      <td>17.80</td>\n",
              "    </tr>\n",
              "    <tr>\n",
              "      <th>5</th>\n",
              "      <td>23345809</td>\n",
              "      <td>2</td>\n",
              "      <td>03/25/2017 8:34:11 PM</td>\n",
              "      <td>03/25/2017 8:42:11 PM</td>\n",
              "      <td>6</td>\n",
              "      <td>2.30</td>\n",
              "      <td>1</td>\n",
              "      <td>N</td>\n",
              "      <td>161</td>\n",
              "      <td>236</td>\n",
              "      <td>1</td>\n",
              "      <td>9.0</td>\n",
              "      <td>0.5</td>\n",
              "      <td>0.5</td>\n",
              "      <td>2.06</td>\n",
              "      <td>0.0</td>\n",
              "      <td>0.3</td>\n",
              "      <td>12.36</td>\n",
              "    </tr>\n",
              "    <tr>\n",
              "      <th>6</th>\n",
              "      <td>37660487</td>\n",
              "      <td>2</td>\n",
              "      <td>05/03/2017 7:04:09 PM</td>\n",
              "      <td>05/03/2017 8:03:47 PM</td>\n",
              "      <td>1</td>\n",
              "      <td>12.83</td>\n",
              "      <td>1</td>\n",
              "      <td>N</td>\n",
              "      <td>79</td>\n",
              "      <td>241</td>\n",
              "      <td>1</td>\n",
              "      <td>47.5</td>\n",
              "      <td>1.0</td>\n",
              "      <td>0.5</td>\n",
              "      <td>9.86</td>\n",
              "      <td>0.0</td>\n",
              "      <td>0.3</td>\n",
              "      <td>59.16</td>\n",
              "    </tr>\n",
              "    <tr>\n",
              "      <th>7</th>\n",
              "      <td>69059411</td>\n",
              "      <td>2</td>\n",
              "      <td>08/15/2017 5:41:06 PM</td>\n",
              "      <td>08/15/2017 6:03:05 PM</td>\n",
              "      <td>1</td>\n",
              "      <td>2.98</td>\n",
              "      <td>1</td>\n",
              "      <td>N</td>\n",
              "      <td>237</td>\n",
              "      <td>114</td>\n",
              "      <td>1</td>\n",
              "      <td>16.0</td>\n",
              "      <td>1.0</td>\n",
              "      <td>0.5</td>\n",
              "      <td>1.78</td>\n",
              "      <td>0.0</td>\n",
              "      <td>0.3</td>\n",
              "      <td>19.58</td>\n",
              "    </tr>\n",
              "    <tr>\n",
              "      <th>8</th>\n",
              "      <td>8433159</td>\n",
              "      <td>2</td>\n",
              "      <td>02/04/2017 4:17:07 PM</td>\n",
              "      <td>02/04/2017 4:29:14 PM</td>\n",
              "      <td>1</td>\n",
              "      <td>1.20</td>\n",
              "      <td>1</td>\n",
              "      <td>N</td>\n",
              "      <td>234</td>\n",
              "      <td>249</td>\n",
              "      <td>2</td>\n",
              "      <td>9.0</td>\n",
              "      <td>0.0</td>\n",
              "      <td>0.5</td>\n",
              "      <td>0.00</td>\n",
              "      <td>0.0</td>\n",
              "      <td>0.3</td>\n",
              "      <td>9.80</td>\n",
              "    </tr>\n",
              "    <tr>\n",
              "      <th>9</th>\n",
              "      <td>95294817</td>\n",
              "      <td>1</td>\n",
              "      <td>11/10/2017 3:20:29 PM</td>\n",
              "      <td>11/10/2017 3:40:55 PM</td>\n",
              "      <td>1</td>\n",
              "      <td>1.60</td>\n",
              "      <td>1</td>\n",
              "      <td>N</td>\n",
              "      <td>239</td>\n",
              "      <td>237</td>\n",
              "      <td>1</td>\n",
              "      <td>13.0</td>\n",
              "      <td>0.0</td>\n",
              "      <td>0.5</td>\n",
              "      <td>2.75</td>\n",
              "      <td>0.0</td>\n",
              "      <td>0.3</td>\n",
              "      <td>16.55</td>\n",
              "    </tr>\n",
              "  </tbody>\n",
              "</table>\n",
              "</div>\n",
              "    <div class=\"colab-df-buttons\">\n",
              "\n",
              "  <div class=\"colab-df-container\">\n",
              "    <button class=\"colab-df-convert\" onclick=\"convertToInteractive('df-f04fe078-8648-4b26-a3e2-706862e4a4df')\"\n",
              "            title=\"Convert this dataframe to an interactive table.\"\n",
              "            style=\"display:none;\">\n",
              "\n",
              "  <svg xmlns=\"http://www.w3.org/2000/svg\" height=\"24px\" viewBox=\"0 -960 960 960\">\n",
              "    <path d=\"M120-120v-720h720v720H120Zm60-500h600v-160H180v160Zm220 220h160v-160H400v160Zm0 220h160v-160H400v160ZM180-400h160v-160H180v160Zm440 0h160v-160H620v160ZM180-180h160v-160H180v160Zm440 0h160v-160H620v160Z\"/>\n",
              "  </svg>\n",
              "    </button>\n",
              "\n",
              "  <style>\n",
              "    .colab-df-container {\n",
              "      display:flex;\n",
              "      gap: 12px;\n",
              "    }\n",
              "\n",
              "    .colab-df-convert {\n",
              "      background-color: #E8F0FE;\n",
              "      border: none;\n",
              "      border-radius: 50%;\n",
              "      cursor: pointer;\n",
              "      display: none;\n",
              "      fill: #1967D2;\n",
              "      height: 32px;\n",
              "      padding: 0 0 0 0;\n",
              "      width: 32px;\n",
              "    }\n",
              "\n",
              "    .colab-df-convert:hover {\n",
              "      background-color: #E2EBFA;\n",
              "      box-shadow: 0px 1px 2px rgba(60, 64, 67, 0.3), 0px 1px 3px 1px rgba(60, 64, 67, 0.15);\n",
              "      fill: #174EA6;\n",
              "    }\n",
              "\n",
              "    .colab-df-buttons div {\n",
              "      margin-bottom: 4px;\n",
              "    }\n",
              "\n",
              "    [theme=dark] .colab-df-convert {\n",
              "      background-color: #3B4455;\n",
              "      fill: #D2E3FC;\n",
              "    }\n",
              "\n",
              "    [theme=dark] .colab-df-convert:hover {\n",
              "      background-color: #434B5C;\n",
              "      box-shadow: 0px 1px 3px 1px rgba(0, 0, 0, 0.15);\n",
              "      filter: drop-shadow(0px 1px 2px rgba(0, 0, 0, 0.3));\n",
              "      fill: #FFFFFF;\n",
              "    }\n",
              "  </style>\n",
              "\n",
              "    <script>\n",
              "      const buttonEl =\n",
              "        document.querySelector('#df-f04fe078-8648-4b26-a3e2-706862e4a4df button.colab-df-convert');\n",
              "      buttonEl.style.display =\n",
              "        google.colab.kernel.accessAllowed ? 'block' : 'none';\n",
              "\n",
              "      async function convertToInteractive(key) {\n",
              "        const element = document.querySelector('#df-f04fe078-8648-4b26-a3e2-706862e4a4df');\n",
              "        const dataTable =\n",
              "          await google.colab.kernel.invokeFunction('convertToInteractive',\n",
              "                                                    [key], {});\n",
              "        if (!dataTable) return;\n",
              "\n",
              "        const docLinkHtml = 'Like what you see? Visit the ' +\n",
              "          '<a target=\"_blank\" href=https://colab.research.google.com/notebooks/data_table.ipynb>data table notebook</a>'\n",
              "          + ' to learn more about interactive tables.';\n",
              "        element.innerHTML = '';\n",
              "        dataTable['output_type'] = 'display_data';\n",
              "        await google.colab.output.renderOutput(dataTable, element);\n",
              "        const docLink = document.createElement('div');\n",
              "        docLink.innerHTML = docLinkHtml;\n",
              "        element.appendChild(docLink);\n",
              "      }\n",
              "    </script>\n",
              "  </div>\n",
              "\n",
              "\n",
              "<div id=\"df-1da2734a-7ea5-4c52-b6f4-5b2062259798\">\n",
              "  <button class=\"colab-df-quickchart\" onclick=\"quickchart('df-1da2734a-7ea5-4c52-b6f4-5b2062259798')\"\n",
              "            title=\"Suggest charts\"\n",
              "            style=\"display:none;\">\n",
              "\n",
              "<svg xmlns=\"http://www.w3.org/2000/svg\" height=\"24px\"viewBox=\"0 0 24 24\"\n",
              "     width=\"24px\">\n",
              "    <g>\n",
              "        <path d=\"M19 3H5c-1.1 0-2 .9-2 2v14c0 1.1.9 2 2 2h14c1.1 0 2-.9 2-2V5c0-1.1-.9-2-2-2zM9 17H7v-7h2v7zm4 0h-2V7h2v10zm4 0h-2v-4h2v4z\"/>\n",
              "    </g>\n",
              "</svg>\n",
              "  </button>\n",
              "\n",
              "<style>\n",
              "  .colab-df-quickchart {\n",
              "      --bg-color: #E8F0FE;\n",
              "      --fill-color: #1967D2;\n",
              "      --hover-bg-color: #E2EBFA;\n",
              "      --hover-fill-color: #174EA6;\n",
              "      --disabled-fill-color: #AAA;\n",
              "      --disabled-bg-color: #DDD;\n",
              "  }\n",
              "\n",
              "  [theme=dark] .colab-df-quickchart {\n",
              "      --bg-color: #3B4455;\n",
              "      --fill-color: #D2E3FC;\n",
              "      --hover-bg-color: #434B5C;\n",
              "      --hover-fill-color: #FFFFFF;\n",
              "      --disabled-bg-color: #3B4455;\n",
              "      --disabled-fill-color: #666;\n",
              "  }\n",
              "\n",
              "  .colab-df-quickchart {\n",
              "    background-color: var(--bg-color);\n",
              "    border: none;\n",
              "    border-radius: 50%;\n",
              "    cursor: pointer;\n",
              "    display: none;\n",
              "    fill: var(--fill-color);\n",
              "    height: 32px;\n",
              "    padding: 0;\n",
              "    width: 32px;\n",
              "  }\n",
              "\n",
              "  .colab-df-quickchart:hover {\n",
              "    background-color: var(--hover-bg-color);\n",
              "    box-shadow: 0 1px 2px rgba(60, 64, 67, 0.3), 0 1px 3px 1px rgba(60, 64, 67, 0.15);\n",
              "    fill: var(--button-hover-fill-color);\n",
              "  }\n",
              "\n",
              "  .colab-df-quickchart-complete:disabled,\n",
              "  .colab-df-quickchart-complete:disabled:hover {\n",
              "    background-color: var(--disabled-bg-color);\n",
              "    fill: var(--disabled-fill-color);\n",
              "    box-shadow: none;\n",
              "  }\n",
              "\n",
              "  .colab-df-spinner {\n",
              "    border: 2px solid var(--fill-color);\n",
              "    border-color: transparent;\n",
              "    border-bottom-color: var(--fill-color);\n",
              "    animation:\n",
              "      spin 1s steps(1) infinite;\n",
              "  }\n",
              "\n",
              "  @keyframes spin {\n",
              "    0% {\n",
              "      border-color: transparent;\n",
              "      border-bottom-color: var(--fill-color);\n",
              "      border-left-color: var(--fill-color);\n",
              "    }\n",
              "    20% {\n",
              "      border-color: transparent;\n",
              "      border-left-color: var(--fill-color);\n",
              "      border-top-color: var(--fill-color);\n",
              "    }\n",
              "    30% {\n",
              "      border-color: transparent;\n",
              "      border-left-color: var(--fill-color);\n",
              "      border-top-color: var(--fill-color);\n",
              "      border-right-color: var(--fill-color);\n",
              "    }\n",
              "    40% {\n",
              "      border-color: transparent;\n",
              "      border-right-color: var(--fill-color);\n",
              "      border-top-color: var(--fill-color);\n",
              "    }\n",
              "    60% {\n",
              "      border-color: transparent;\n",
              "      border-right-color: var(--fill-color);\n",
              "    }\n",
              "    80% {\n",
              "      border-color: transparent;\n",
              "      border-right-color: var(--fill-color);\n",
              "      border-bottom-color: var(--fill-color);\n",
              "    }\n",
              "    90% {\n",
              "      border-color: transparent;\n",
              "      border-bottom-color: var(--fill-color);\n",
              "    }\n",
              "  }\n",
              "</style>\n",
              "\n",
              "  <script>\n",
              "    async function quickchart(key) {\n",
              "      const quickchartButtonEl =\n",
              "        document.querySelector('#' + key + ' button');\n",
              "      quickchartButtonEl.disabled = true;  // To prevent multiple clicks.\n",
              "      quickchartButtonEl.classList.add('colab-df-spinner');\n",
              "      try {\n",
              "        const charts = await google.colab.kernel.invokeFunction(\n",
              "            'suggestCharts', [key], {});\n",
              "      } catch (error) {\n",
              "        console.error('Error during call to suggestCharts:', error);\n",
              "      }\n",
              "      quickchartButtonEl.classList.remove('colab-df-spinner');\n",
              "      quickchartButtonEl.classList.add('colab-df-quickchart-complete');\n",
              "    }\n",
              "    (() => {\n",
              "      let quickchartButtonEl =\n",
              "        document.querySelector('#df-1da2734a-7ea5-4c52-b6f4-5b2062259798 button');\n",
              "      quickchartButtonEl.style.display =\n",
              "        google.colab.kernel.accessAllowed ? 'block' : 'none';\n",
              "    })();\n",
              "  </script>\n",
              "</div>\n",
              "\n",
              "    </div>\n",
              "  </div>\n"
            ],
            "application/vnd.google.colaboratory.intrinsic+json": {
              "type": "dataframe",
              "variable_name": "df",
              "summary": "{\n  \"name\": \"df\",\n  \"rows\": 22699,\n  \"fields\": [\n    {\n      \"column\": \"Unnamed: 0\",\n      \"properties\": {\n        \"dtype\": \"number\",\n        \"std\": 32744929,\n        \"min\": 12127,\n        \"max\": 113486300,\n        \"num_unique_values\": 22699,\n        \"samples\": [\n          110047230,\n          112175408,\n          49968287\n        ],\n        \"semantic_type\": \"\",\n        \"description\": \"\"\n      }\n    },\n    {\n      \"column\": \"VendorID\",\n      \"properties\": {\n        \"dtype\": \"number\",\n        \"std\": 0,\n        \"min\": 1,\n        \"max\": 2,\n        \"num_unique_values\": 2,\n        \"samples\": [\n          1,\n          2\n        ],\n        \"semantic_type\": \"\",\n        \"description\": \"\"\n      }\n    },\n    {\n      \"column\": \"tpep_pickup_datetime\",\n      \"properties\": {\n        \"dtype\": \"object\",\n        \"num_unique_values\": 22687,\n        \"samples\": [\n          \"09/11/2017 2:01:01 PM\",\n          \"07/23/2017 1:18:47 AM\"\n        ],\n        \"semantic_type\": \"\",\n        \"description\": \"\"\n      }\n    },\n    {\n      \"column\": \"tpep_dropoff_datetime\",\n      \"properties\": {\n        \"dtype\": \"object\",\n        \"num_unique_values\": 22688,\n        \"samples\": [\n          \"02/23/2017 6:08:09 AM\",\n          \"07/23/2017 1:38:51 AM\"\n        ],\n        \"semantic_type\": \"\",\n        \"description\": \"\"\n      }\n    },\n    {\n      \"column\": \"passenger_count\",\n      \"properties\": {\n        \"dtype\": \"number\",\n        \"std\": 1,\n        \"min\": 0,\n        \"max\": 6,\n        \"num_unique_values\": 7,\n        \"samples\": [\n          6,\n          1\n        ],\n        \"semantic_type\": \"\",\n        \"description\": \"\"\n      }\n    },\n    {\n      \"column\": \"trip_distance\",\n      \"properties\": {\n        \"dtype\": \"number\",\n        \"std\": 3.653171182833924,\n        \"min\": 0.0,\n        \"max\": 33.96,\n        \"num_unique_values\": 1545,\n        \"samples\": [\n          7.47,\n          10.56\n        ],\n        \"semantic_type\": \"\",\n        \"description\": \"\"\n      }\n    },\n    {\n      \"column\": \"RatecodeID\",\n      \"properties\": {\n        \"dtype\": \"number\",\n        \"std\": 0,\n        \"min\": 1,\n        \"max\": 99,\n        \"num_unique_values\": 6,\n        \"samples\": [\n          1,\n          2\n        ],\n        \"semantic_type\": \"\",\n        \"description\": \"\"\n      }\n    },\n    {\n      \"column\": \"store_and_fwd_flag\",\n      \"properties\": {\n        \"dtype\": \"category\",\n        \"num_unique_values\": 2,\n        \"samples\": [\n          \"Y\",\n          \"N\"\n        ],\n        \"semantic_type\": \"\",\n        \"description\": \"\"\n      }\n    },\n    {\n      \"column\": \"PULocationID\",\n      \"properties\": {\n        \"dtype\": \"number\",\n        \"std\": 66,\n        \"min\": 1,\n        \"max\": 265,\n        \"num_unique_values\": 152,\n        \"samples\": [\n          49,\n          218\n        ],\n        \"semantic_type\": \"\",\n        \"description\": \"\"\n      }\n    },\n    {\n      \"column\": \"DOLocationID\",\n      \"properties\": {\n        \"dtype\": \"number\",\n        \"std\": 70,\n        \"min\": 1,\n        \"max\": 265,\n        \"num_unique_values\": 216,\n        \"samples\": [\n          215,\n          73\n        ],\n        \"semantic_type\": \"\",\n        \"description\": \"\"\n      }\n    },\n    {\n      \"column\": \"payment_type\",\n      \"properties\": {\n        \"dtype\": \"number\",\n        \"std\": 0,\n        \"min\": 1,\n        \"max\": 4,\n        \"num_unique_values\": 4,\n        \"samples\": [\n          2,\n          4\n        ],\n        \"semantic_type\": \"\",\n        \"description\": \"\"\n      }\n    },\n    {\n      \"column\": \"fare_amount\",\n      \"properties\": {\n        \"dtype\": \"number\",\n        \"std\": 13.243790516711774,\n        \"min\": -120.0,\n        \"max\": 999.99,\n        \"num_unique_values\": 185,\n        \"samples\": [\n          11.0,\n          31.0\n        ],\n        \"semantic_type\": \"\",\n        \"description\": \"\"\n      }\n    },\n    {\n      \"column\": \"extra\",\n      \"properties\": {\n        \"dtype\": \"number\",\n        \"std\": 0.46309657874841353,\n        \"min\": -1.0,\n        \"max\": 4.5,\n        \"num_unique_values\": 6,\n        \"samples\": [\n          0.0,\n          0.5\n        ],\n        \"semantic_type\": \"\",\n        \"description\": \"\"\n      }\n    },\n    {\n      \"column\": \"mta_tax\",\n      \"properties\": {\n        \"dtype\": \"number\",\n        \"std\": 0.039464987331493256,\n        \"min\": -0.5,\n        \"max\": 0.5,\n        \"num_unique_values\": 3,\n        \"samples\": [\n          0.5,\n          0.0\n        ],\n        \"semantic_type\": \"\",\n        \"description\": \"\"\n      }\n    },\n    {\n      \"column\": \"tip_amount\",\n      \"properties\": {\n        \"dtype\": \"number\",\n        \"std\": 2.800626272263543,\n        \"min\": 0.0,\n        \"max\": 200.0,\n        \"num_unique_values\": 742,\n        \"samples\": [\n          0.87,\n          4.76\n        ],\n        \"semantic_type\": \"\",\n        \"description\": \"\"\n      }\n    },\n    {\n      \"column\": \"tolls_amount\",\n      \"properties\": {\n        \"dtype\": \"number\",\n        \"std\": 1.3992119315575398,\n        \"min\": 0.0,\n        \"max\": 19.1,\n        \"num_unique_values\": 38,\n        \"samples\": [\n          8.16,\n          4.32\n        ],\n        \"semantic_type\": \"\",\n        \"description\": \"\"\n      }\n    },\n    {\n      \"column\": \"improvement_surcharge\",\n      \"properties\": {\n        \"dtype\": \"number\",\n        \"std\": 0.015672737641519597,\n        \"min\": -0.3,\n        \"max\": 0.3,\n        \"num_unique_values\": 3,\n        \"samples\": [\n          0.3,\n          -0.3\n        ],\n        \"semantic_type\": \"\",\n        \"description\": \"\"\n      }\n    },\n    {\n      \"column\": \"total_amount\",\n      \"properties\": {\n        \"dtype\": \"number\",\n        \"std\": 16.097295300636276,\n        \"min\": -120.3,\n        \"max\": 1200.29,\n        \"num_unique_values\": 1369,\n        \"samples\": [\n          10.14,\n          22.77\n        ],\n        \"semantic_type\": \"\",\n        \"description\": \"\"\n      }\n    }\n  ]\n}"
            }
          },
          "metadata": {},
          "execution_count": 5
        }
      ]
    },
    {
      "cell_type": "code",
      "source": [
        "df.info()"
      ],
      "metadata": {
        "colab": {
          "base_uri": "https://localhost:8080/"
        },
        "id": "ad2UBls2w-Yk",
        "outputId": "638ddc2f-a66f-4fb6-cdaa-96813b12f6e7"
      },
      "execution_count": 7,
      "outputs": [
        {
          "output_type": "stream",
          "name": "stdout",
          "text": [
            "<class 'pandas.core.frame.DataFrame'>\n",
            "RangeIndex: 22699 entries, 0 to 22698\n",
            "Data columns (total 18 columns):\n",
            " #   Column                 Non-Null Count  Dtype  \n",
            "---  ------                 --------------  -----  \n",
            " 0   Unnamed: 0             22699 non-null  int64  \n",
            " 1   VendorID               22699 non-null  int64  \n",
            " 2   tpep_pickup_datetime   22699 non-null  object \n",
            " 3   tpep_dropoff_datetime  22699 non-null  object \n",
            " 4   passenger_count        22699 non-null  int64  \n",
            " 5   trip_distance          22699 non-null  float64\n",
            " 6   RatecodeID             22699 non-null  int64  \n",
            " 7   store_and_fwd_flag     22699 non-null  object \n",
            " 8   PULocationID           22699 non-null  int64  \n",
            " 9   DOLocationID           22699 non-null  int64  \n",
            " 10  payment_type           22699 non-null  int64  \n",
            " 11  fare_amount            22699 non-null  float64\n",
            " 12  extra                  22699 non-null  float64\n",
            " 13  mta_tax                22699 non-null  float64\n",
            " 14  tip_amount             22699 non-null  float64\n",
            " 15  tolls_amount           22699 non-null  float64\n",
            " 16  improvement_surcharge  22699 non-null  float64\n",
            " 17  total_amount           22699 non-null  float64\n",
            "dtypes: float64(8), int64(7), object(3)\n",
            "memory usage: 3.1+ MB\n"
          ]
        }
      ]
    },
    {
      "cell_type": "code",
      "source": [
        "df.size"
      ],
      "metadata": {
        "colab": {
          "base_uri": "https://localhost:8080/"
        },
        "id": "DrAPgQONxBLL",
        "outputId": "964f7c40-5213-4a85-ca8f-e4e900137957"
      },
      "execution_count": 8,
      "outputs": [
        {
          "output_type": "execute_result",
          "data": {
            "text/plain": [
              "408582"
            ]
          },
          "metadata": {},
          "execution_count": 8
        }
      ]
    },
    {
      "cell_type": "code",
      "source": [
        "df.describe()"
      ],
      "metadata": {
        "colab": {
          "base_uri": "https://localhost:8080/",
          "height": 320
        },
        "id": "PmA0HgSnyAnl",
        "outputId": "9c10b8fa-4f6d-4523-b532-f33b346330d7"
      },
      "execution_count": 9,
      "outputs": [
        {
          "output_type": "execute_result",
          "data": {
            "text/plain": [
              "         Unnamed: 0      VendorID  passenger_count  trip_distance  \\\n",
              "count  2.269900e+04  22699.000000     22699.000000   22699.000000   \n",
              "mean   5.675849e+07      1.556236         1.642319       2.913313   \n",
              "std    3.274493e+07      0.496838         1.285231       3.653171   \n",
              "min    1.212700e+04      1.000000         0.000000       0.000000   \n",
              "25%    2.852056e+07      1.000000         1.000000       0.990000   \n",
              "50%    5.673150e+07      2.000000         1.000000       1.610000   \n",
              "75%    8.537452e+07      2.000000         2.000000       3.060000   \n",
              "max    1.134863e+08      2.000000         6.000000      33.960000   \n",
              "\n",
              "         RatecodeID  PULocationID  DOLocationID  payment_type   fare_amount  \\\n",
              "count  22699.000000  22699.000000  22699.000000  22699.000000  22699.000000   \n",
              "mean       1.043394    162.412353    161.527997      1.336887     13.026629   \n",
              "std        0.708391     66.633373     70.139691      0.496211     13.243791   \n",
              "min        1.000000      1.000000      1.000000      1.000000   -120.000000   \n",
              "25%        1.000000    114.000000    112.000000      1.000000      6.500000   \n",
              "50%        1.000000    162.000000    162.000000      1.000000      9.500000   \n",
              "75%        1.000000    233.000000    233.000000      2.000000     14.500000   \n",
              "max       99.000000    265.000000    265.000000      4.000000    999.990000   \n",
              "\n",
              "              extra       mta_tax    tip_amount  tolls_amount  \\\n",
              "count  22699.000000  22699.000000  22699.000000  22699.000000   \n",
              "mean       0.333275      0.497445      1.835781      0.312542   \n",
              "std        0.463097      0.039465      2.800626      1.399212   \n",
              "min       -1.000000     -0.500000      0.000000      0.000000   \n",
              "25%        0.000000      0.500000      0.000000      0.000000   \n",
              "50%        0.000000      0.500000      1.350000      0.000000   \n",
              "75%        0.500000      0.500000      2.450000      0.000000   \n",
              "max        4.500000      0.500000    200.000000     19.100000   \n",
              "\n",
              "       improvement_surcharge  total_amount  \n",
              "count           22699.000000  22699.000000  \n",
              "mean                0.299551     16.310502  \n",
              "std                 0.015673     16.097295  \n",
              "min                -0.300000   -120.300000  \n",
              "25%                 0.300000      8.750000  \n",
              "50%                 0.300000     11.800000  \n",
              "75%                 0.300000     17.800000  \n",
              "max                 0.300000   1200.290000  "
            ],
            "text/html": [
              "\n",
              "  <div id=\"df-3636f9dc-2e0a-4dab-a1a7-d25271334199\" class=\"colab-df-container\">\n",
              "    <div>\n",
              "<style scoped>\n",
              "    .dataframe tbody tr th:only-of-type {\n",
              "        vertical-align: middle;\n",
              "    }\n",
              "\n",
              "    .dataframe tbody tr th {\n",
              "        vertical-align: top;\n",
              "    }\n",
              "\n",
              "    .dataframe thead th {\n",
              "        text-align: right;\n",
              "    }\n",
              "</style>\n",
              "<table border=\"1\" class=\"dataframe\">\n",
              "  <thead>\n",
              "    <tr style=\"text-align: right;\">\n",
              "      <th></th>\n",
              "      <th>Unnamed: 0</th>\n",
              "      <th>VendorID</th>\n",
              "      <th>passenger_count</th>\n",
              "      <th>trip_distance</th>\n",
              "      <th>RatecodeID</th>\n",
              "      <th>PULocationID</th>\n",
              "      <th>DOLocationID</th>\n",
              "      <th>payment_type</th>\n",
              "      <th>fare_amount</th>\n",
              "      <th>extra</th>\n",
              "      <th>mta_tax</th>\n",
              "      <th>tip_amount</th>\n",
              "      <th>tolls_amount</th>\n",
              "      <th>improvement_surcharge</th>\n",
              "      <th>total_amount</th>\n",
              "    </tr>\n",
              "  </thead>\n",
              "  <tbody>\n",
              "    <tr>\n",
              "      <th>count</th>\n",
              "      <td>2.269900e+04</td>\n",
              "      <td>22699.000000</td>\n",
              "      <td>22699.000000</td>\n",
              "      <td>22699.000000</td>\n",
              "      <td>22699.000000</td>\n",
              "      <td>22699.000000</td>\n",
              "      <td>22699.000000</td>\n",
              "      <td>22699.000000</td>\n",
              "      <td>22699.000000</td>\n",
              "      <td>22699.000000</td>\n",
              "      <td>22699.000000</td>\n",
              "      <td>22699.000000</td>\n",
              "      <td>22699.000000</td>\n",
              "      <td>22699.000000</td>\n",
              "      <td>22699.000000</td>\n",
              "    </tr>\n",
              "    <tr>\n",
              "      <th>mean</th>\n",
              "      <td>5.675849e+07</td>\n",
              "      <td>1.556236</td>\n",
              "      <td>1.642319</td>\n",
              "      <td>2.913313</td>\n",
              "      <td>1.043394</td>\n",
              "      <td>162.412353</td>\n",
              "      <td>161.527997</td>\n",
              "      <td>1.336887</td>\n",
              "      <td>13.026629</td>\n",
              "      <td>0.333275</td>\n",
              "      <td>0.497445</td>\n",
              "      <td>1.835781</td>\n",
              "      <td>0.312542</td>\n",
              "      <td>0.299551</td>\n",
              "      <td>16.310502</td>\n",
              "    </tr>\n",
              "    <tr>\n",
              "      <th>std</th>\n",
              "      <td>3.274493e+07</td>\n",
              "      <td>0.496838</td>\n",
              "      <td>1.285231</td>\n",
              "      <td>3.653171</td>\n",
              "      <td>0.708391</td>\n",
              "      <td>66.633373</td>\n",
              "      <td>70.139691</td>\n",
              "      <td>0.496211</td>\n",
              "      <td>13.243791</td>\n",
              "      <td>0.463097</td>\n",
              "      <td>0.039465</td>\n",
              "      <td>2.800626</td>\n",
              "      <td>1.399212</td>\n",
              "      <td>0.015673</td>\n",
              "      <td>16.097295</td>\n",
              "    </tr>\n",
              "    <tr>\n",
              "      <th>min</th>\n",
              "      <td>1.212700e+04</td>\n",
              "      <td>1.000000</td>\n",
              "      <td>0.000000</td>\n",
              "      <td>0.000000</td>\n",
              "      <td>1.000000</td>\n",
              "      <td>1.000000</td>\n",
              "      <td>1.000000</td>\n",
              "      <td>1.000000</td>\n",
              "      <td>-120.000000</td>\n",
              "      <td>-1.000000</td>\n",
              "      <td>-0.500000</td>\n",
              "      <td>0.000000</td>\n",
              "      <td>0.000000</td>\n",
              "      <td>-0.300000</td>\n",
              "      <td>-120.300000</td>\n",
              "    </tr>\n",
              "    <tr>\n",
              "      <th>25%</th>\n",
              "      <td>2.852056e+07</td>\n",
              "      <td>1.000000</td>\n",
              "      <td>1.000000</td>\n",
              "      <td>0.990000</td>\n",
              "      <td>1.000000</td>\n",
              "      <td>114.000000</td>\n",
              "      <td>112.000000</td>\n",
              "      <td>1.000000</td>\n",
              "      <td>6.500000</td>\n",
              "      <td>0.000000</td>\n",
              "      <td>0.500000</td>\n",
              "      <td>0.000000</td>\n",
              "      <td>0.000000</td>\n",
              "      <td>0.300000</td>\n",
              "      <td>8.750000</td>\n",
              "    </tr>\n",
              "    <tr>\n",
              "      <th>50%</th>\n",
              "      <td>5.673150e+07</td>\n",
              "      <td>2.000000</td>\n",
              "      <td>1.000000</td>\n",
              "      <td>1.610000</td>\n",
              "      <td>1.000000</td>\n",
              "      <td>162.000000</td>\n",
              "      <td>162.000000</td>\n",
              "      <td>1.000000</td>\n",
              "      <td>9.500000</td>\n",
              "      <td>0.000000</td>\n",
              "      <td>0.500000</td>\n",
              "      <td>1.350000</td>\n",
              "      <td>0.000000</td>\n",
              "      <td>0.300000</td>\n",
              "      <td>11.800000</td>\n",
              "    </tr>\n",
              "    <tr>\n",
              "      <th>75%</th>\n",
              "      <td>8.537452e+07</td>\n",
              "      <td>2.000000</td>\n",
              "      <td>2.000000</td>\n",
              "      <td>3.060000</td>\n",
              "      <td>1.000000</td>\n",
              "      <td>233.000000</td>\n",
              "      <td>233.000000</td>\n",
              "      <td>2.000000</td>\n",
              "      <td>14.500000</td>\n",
              "      <td>0.500000</td>\n",
              "      <td>0.500000</td>\n",
              "      <td>2.450000</td>\n",
              "      <td>0.000000</td>\n",
              "      <td>0.300000</td>\n",
              "      <td>17.800000</td>\n",
              "    </tr>\n",
              "    <tr>\n",
              "      <th>max</th>\n",
              "      <td>1.134863e+08</td>\n",
              "      <td>2.000000</td>\n",
              "      <td>6.000000</td>\n",
              "      <td>33.960000</td>\n",
              "      <td>99.000000</td>\n",
              "      <td>265.000000</td>\n",
              "      <td>265.000000</td>\n",
              "      <td>4.000000</td>\n",
              "      <td>999.990000</td>\n",
              "      <td>4.500000</td>\n",
              "      <td>0.500000</td>\n",
              "      <td>200.000000</td>\n",
              "      <td>19.100000</td>\n",
              "      <td>0.300000</td>\n",
              "      <td>1200.290000</td>\n",
              "    </tr>\n",
              "  </tbody>\n",
              "</table>\n",
              "</div>\n",
              "    <div class=\"colab-df-buttons\">\n",
              "\n",
              "  <div class=\"colab-df-container\">\n",
              "    <button class=\"colab-df-convert\" onclick=\"convertToInteractive('df-3636f9dc-2e0a-4dab-a1a7-d25271334199')\"\n",
              "            title=\"Convert this dataframe to an interactive table.\"\n",
              "            style=\"display:none;\">\n",
              "\n",
              "  <svg xmlns=\"http://www.w3.org/2000/svg\" height=\"24px\" viewBox=\"0 -960 960 960\">\n",
              "    <path d=\"M120-120v-720h720v720H120Zm60-500h600v-160H180v160Zm220 220h160v-160H400v160Zm0 220h160v-160H400v160ZM180-400h160v-160H180v160Zm440 0h160v-160H620v160ZM180-180h160v-160H180v160Zm440 0h160v-160H620v160Z\"/>\n",
              "  </svg>\n",
              "    </button>\n",
              "\n",
              "  <style>\n",
              "    .colab-df-container {\n",
              "      display:flex;\n",
              "      gap: 12px;\n",
              "    }\n",
              "\n",
              "    .colab-df-convert {\n",
              "      background-color: #E8F0FE;\n",
              "      border: none;\n",
              "      border-radius: 50%;\n",
              "      cursor: pointer;\n",
              "      display: none;\n",
              "      fill: #1967D2;\n",
              "      height: 32px;\n",
              "      padding: 0 0 0 0;\n",
              "      width: 32px;\n",
              "    }\n",
              "\n",
              "    .colab-df-convert:hover {\n",
              "      background-color: #E2EBFA;\n",
              "      box-shadow: 0px 1px 2px rgba(60, 64, 67, 0.3), 0px 1px 3px 1px rgba(60, 64, 67, 0.15);\n",
              "      fill: #174EA6;\n",
              "    }\n",
              "\n",
              "    .colab-df-buttons div {\n",
              "      margin-bottom: 4px;\n",
              "    }\n",
              "\n",
              "    [theme=dark] .colab-df-convert {\n",
              "      background-color: #3B4455;\n",
              "      fill: #D2E3FC;\n",
              "    }\n",
              "\n",
              "    [theme=dark] .colab-df-convert:hover {\n",
              "      background-color: #434B5C;\n",
              "      box-shadow: 0px 1px 3px 1px rgba(0, 0, 0, 0.15);\n",
              "      filter: drop-shadow(0px 1px 2px rgba(0, 0, 0, 0.3));\n",
              "      fill: #FFFFFF;\n",
              "    }\n",
              "  </style>\n",
              "\n",
              "    <script>\n",
              "      const buttonEl =\n",
              "        document.querySelector('#df-3636f9dc-2e0a-4dab-a1a7-d25271334199 button.colab-df-convert');\n",
              "      buttonEl.style.display =\n",
              "        google.colab.kernel.accessAllowed ? 'block' : 'none';\n",
              "\n",
              "      async function convertToInteractive(key) {\n",
              "        const element = document.querySelector('#df-3636f9dc-2e0a-4dab-a1a7-d25271334199');\n",
              "        const dataTable =\n",
              "          await google.colab.kernel.invokeFunction('convertToInteractive',\n",
              "                                                    [key], {});\n",
              "        if (!dataTable) return;\n",
              "\n",
              "        const docLinkHtml = 'Like what you see? Visit the ' +\n",
              "          '<a target=\"_blank\" href=https://colab.research.google.com/notebooks/data_table.ipynb>data table notebook</a>'\n",
              "          + ' to learn more about interactive tables.';\n",
              "        element.innerHTML = '';\n",
              "        dataTable['output_type'] = 'display_data';\n",
              "        await google.colab.output.renderOutput(dataTable, element);\n",
              "        const docLink = document.createElement('div');\n",
              "        docLink.innerHTML = docLinkHtml;\n",
              "        element.appendChild(docLink);\n",
              "      }\n",
              "    </script>\n",
              "  </div>\n",
              "\n",
              "\n",
              "<div id=\"df-987cd2b7-a7ac-40f2-a882-ea11e9d00aa5\">\n",
              "  <button class=\"colab-df-quickchart\" onclick=\"quickchart('df-987cd2b7-a7ac-40f2-a882-ea11e9d00aa5')\"\n",
              "            title=\"Suggest charts\"\n",
              "            style=\"display:none;\">\n",
              "\n",
              "<svg xmlns=\"http://www.w3.org/2000/svg\" height=\"24px\"viewBox=\"0 0 24 24\"\n",
              "     width=\"24px\">\n",
              "    <g>\n",
              "        <path d=\"M19 3H5c-1.1 0-2 .9-2 2v14c0 1.1.9 2 2 2h14c1.1 0 2-.9 2-2V5c0-1.1-.9-2-2-2zM9 17H7v-7h2v7zm4 0h-2V7h2v10zm4 0h-2v-4h2v4z\"/>\n",
              "    </g>\n",
              "</svg>\n",
              "  </button>\n",
              "\n",
              "<style>\n",
              "  .colab-df-quickchart {\n",
              "      --bg-color: #E8F0FE;\n",
              "      --fill-color: #1967D2;\n",
              "      --hover-bg-color: #E2EBFA;\n",
              "      --hover-fill-color: #174EA6;\n",
              "      --disabled-fill-color: #AAA;\n",
              "      --disabled-bg-color: #DDD;\n",
              "  }\n",
              "\n",
              "  [theme=dark] .colab-df-quickchart {\n",
              "      --bg-color: #3B4455;\n",
              "      --fill-color: #D2E3FC;\n",
              "      --hover-bg-color: #434B5C;\n",
              "      --hover-fill-color: #FFFFFF;\n",
              "      --disabled-bg-color: #3B4455;\n",
              "      --disabled-fill-color: #666;\n",
              "  }\n",
              "\n",
              "  .colab-df-quickchart {\n",
              "    background-color: var(--bg-color);\n",
              "    border: none;\n",
              "    border-radius: 50%;\n",
              "    cursor: pointer;\n",
              "    display: none;\n",
              "    fill: var(--fill-color);\n",
              "    height: 32px;\n",
              "    padding: 0;\n",
              "    width: 32px;\n",
              "  }\n",
              "\n",
              "  .colab-df-quickchart:hover {\n",
              "    background-color: var(--hover-bg-color);\n",
              "    box-shadow: 0 1px 2px rgba(60, 64, 67, 0.3), 0 1px 3px 1px rgba(60, 64, 67, 0.15);\n",
              "    fill: var(--button-hover-fill-color);\n",
              "  }\n",
              "\n",
              "  .colab-df-quickchart-complete:disabled,\n",
              "  .colab-df-quickchart-complete:disabled:hover {\n",
              "    background-color: var(--disabled-bg-color);\n",
              "    fill: var(--disabled-fill-color);\n",
              "    box-shadow: none;\n",
              "  }\n",
              "\n",
              "  .colab-df-spinner {\n",
              "    border: 2px solid var(--fill-color);\n",
              "    border-color: transparent;\n",
              "    border-bottom-color: var(--fill-color);\n",
              "    animation:\n",
              "      spin 1s steps(1) infinite;\n",
              "  }\n",
              "\n",
              "  @keyframes spin {\n",
              "    0% {\n",
              "      border-color: transparent;\n",
              "      border-bottom-color: var(--fill-color);\n",
              "      border-left-color: var(--fill-color);\n",
              "    }\n",
              "    20% {\n",
              "      border-color: transparent;\n",
              "      border-left-color: var(--fill-color);\n",
              "      border-top-color: var(--fill-color);\n",
              "    }\n",
              "    30% {\n",
              "      border-color: transparent;\n",
              "      border-left-color: var(--fill-color);\n",
              "      border-top-color: var(--fill-color);\n",
              "      border-right-color: var(--fill-color);\n",
              "    }\n",
              "    40% {\n",
              "      border-color: transparent;\n",
              "      border-right-color: var(--fill-color);\n",
              "      border-top-color: var(--fill-color);\n",
              "    }\n",
              "    60% {\n",
              "      border-color: transparent;\n",
              "      border-right-color: var(--fill-color);\n",
              "    }\n",
              "    80% {\n",
              "      border-color: transparent;\n",
              "      border-right-color: var(--fill-color);\n",
              "      border-bottom-color: var(--fill-color);\n",
              "    }\n",
              "    90% {\n",
              "      border-color: transparent;\n",
              "      border-bottom-color: var(--fill-color);\n",
              "    }\n",
              "  }\n",
              "</style>\n",
              "\n",
              "  <script>\n",
              "    async function quickchart(key) {\n",
              "      const quickchartButtonEl =\n",
              "        document.querySelector('#' + key + ' button');\n",
              "      quickchartButtonEl.disabled = true;  // To prevent multiple clicks.\n",
              "      quickchartButtonEl.classList.add('colab-df-spinner');\n",
              "      try {\n",
              "        const charts = await google.colab.kernel.invokeFunction(\n",
              "            'suggestCharts', [key], {});\n",
              "      } catch (error) {\n",
              "        console.error('Error during call to suggestCharts:', error);\n",
              "      }\n",
              "      quickchartButtonEl.classList.remove('colab-df-spinner');\n",
              "      quickchartButtonEl.classList.add('colab-df-quickchart-complete');\n",
              "    }\n",
              "    (() => {\n",
              "      let quickchartButtonEl =\n",
              "        document.querySelector('#df-987cd2b7-a7ac-40f2-a882-ea11e9d00aa5 button');\n",
              "      quickchartButtonEl.style.display =\n",
              "        google.colab.kernel.accessAllowed ? 'block' : 'none';\n",
              "    })();\n",
              "  </script>\n",
              "</div>\n",
              "\n",
              "    </div>\n",
              "  </div>\n"
            ],
            "application/vnd.google.colaboratory.intrinsic+json": {
              "type": "dataframe",
              "summary": "{\n  \"name\": \"df\",\n  \"rows\": 8,\n  \"fields\": [\n    {\n      \"column\": \"Unnamed: 0\",\n      \"properties\": {\n        \"dtype\": \"number\",\n        \"std\": 39716309.451415755,\n        \"min\": 12127.0,\n        \"max\": 113486300.0,\n        \"num_unique_values\": 8,\n        \"samples\": [\n          56758486.17128508,\n          56731504.0,\n          22699.0\n        ],\n        \"semantic_type\": \"\",\n        \"description\": \"\"\n      }\n    },\n    {\n      \"column\": \"VendorID\",\n      \"properties\": {\n        \"dtype\": \"number\",\n        \"std\": 8024.800676002506,\n        \"min\": 0.4968383961995295,\n        \"max\": 22699.0,\n        \"num_unique_values\": 5,\n        \"samples\": [\n          1.5562359575311688,\n          2.0,\n          0.4968383961995295\n        ],\n        \"semantic_type\": \"\",\n        \"description\": \"\"\n      }\n    },\n    {\n      \"column\": \"passenger_count\",\n      \"properties\": {\n        \"dtype\": \"number\",\n        \"std\": 8024.655673240924,\n        \"min\": 0.0,\n        \"max\": 22699.0,\n        \"num_unique_values\": 7,\n        \"samples\": [\n          22699.0,\n          1.6423190448918454,\n          2.0\n        ],\n        \"semantic_type\": \"\",\n        \"description\": \"\"\n      }\n    },\n    {\n      \"column\": \"trip_distance\",\n      \"properties\": {\n        \"dtype\": \"number\",\n        \"std\": 8022.983507451468,\n        \"min\": 0.0,\n        \"max\": 22699.0,\n        \"num_unique_values\": 8,\n        \"samples\": [\n          2.9133129212740645,\n          1.61,\n          22699.0\n        ],\n        \"semantic_type\": \"\",\n        \"description\": \"\"\n      }\n    },\n    {\n      \"column\": \"RatecodeID\",\n      \"properties\": {\n        \"dtype\": \"number\",\n        \"std\": 8020.091027781061,\n        \"min\": 0.7083908849944109,\n        \"max\": 22699.0,\n        \"num_unique_values\": 5,\n        \"samples\": [\n          1.0433939821137495,\n          99.0,\n          0.7083908849944109\n        ],\n        \"semantic_type\": \"\",\n        \"description\": \"\"\n      }\n    },\n    {\n      \"column\": \"PULocationID\",\n      \"properties\": {\n        \"dtype\": \"number\",\n        \"std\": 7975.049276073867,\n        \"min\": 1.0,\n        \"max\": 22699.0,\n        \"num_unique_values\": 8,\n        \"samples\": [\n          162.41235296709107,\n          162.0,\n          22699.0\n        ],\n        \"semantic_type\": \"\",\n        \"description\": \"\"\n      }\n    },\n    {\n      \"column\": \"DOLocationID\",\n      \"properties\": {\n        \"dtype\": \"number\",\n        \"std\": 7975.013946603806,\n        \"min\": 1.0,\n        \"max\": 22699.0,\n        \"num_unique_values\": 8,\n        \"samples\": [\n          161.52799682805409,\n          162.0,\n          22699.0\n        ],\n        \"semantic_type\": \"\",\n        \"description\": \"\"\n      }\n    },\n    {\n      \"column\": \"payment_type\",\n      \"properties\": {\n        \"dtype\": \"number\",\n        \"std\": 8024.7613325906195,\n        \"min\": 0.4962110576796563,\n        \"max\": 22699.0,\n        \"num_unique_values\": 6,\n        \"samples\": [\n          22699.0,\n          1.336887087536896,\n          4.0\n        ],\n        \"semantic_type\": \"\",\n        \"description\": \"\"\n      }\n    },\n    {\n      \"column\": \"fare_amount\",\n      \"properties\": {\n        \"dtype\": \"number\",\n        \"std\": 7985.9566249841055,\n        \"min\": -120.0,\n        \"max\": 22699.0,\n        \"num_unique_values\": 8,\n        \"samples\": [\n          13.026629366932465,\n          9.5,\n          22699.0\n        ],\n        \"semantic_type\": \"\",\n        \"description\": \"\"\n      }\n    },\n    {\n      \"column\": \"extra\",\n      \"properties\": {\n        \"dtype\": \"number\",\n        \"std\": 8025.066324759949,\n        \"min\": -1.0,\n        \"max\": 22699.0,\n        \"num_unique_values\": 7,\n        \"samples\": [\n          22699.0,\n          0.33327459359443146,\n          0.5\n        ],\n        \"semantic_type\": \"\",\n        \"description\": \"\"\n      }\n    },\n    {\n      \"column\": \"mta_tax\",\n      \"properties\": {\n        \"dtype\": \"number\",\n        \"std\": 8025.205541661906,\n        \"min\": -0.5,\n        \"max\": 22699.0,\n        \"num_unique_values\": 5,\n        \"samples\": [\n          0.4974448213577691,\n          0.5,\n          0.039464987331493256\n        ],\n        \"semantic_type\": \"\",\n        \"description\": \"\"\n      }\n    },\n    {\n      \"column\": \"tip_amount\",\n      \"properties\": {\n        \"dtype\": \"number\",\n        \"std\": 8015.0821196458055,\n        \"min\": 0.0,\n        \"max\": 22699.0,\n        \"num_unique_values\": 7,\n        \"samples\": [\n          22699.0,\n          1.8357813119520685,\n          2.45\n        ],\n        \"semantic_type\": \"\",\n        \"description\": \"\"\n      }\n    },\n    {\n      \"column\": \"tolls_amount\",\n      \"properties\": {\n        \"dtype\": \"number\",\n        \"std\": 8024.259975682959,\n        \"min\": 0.0,\n        \"max\": 22699.0,\n        \"num_unique_values\": 5,\n        \"samples\": [\n          0.3125415216529363,\n          19.1,\n          1.3992119315575398\n        ],\n        \"semantic_type\": \"\",\n        \"description\": \"\"\n      }\n    },\n    {\n      \"column\": \"improvement_surcharge\",\n      \"properties\": {\n        \"dtype\": \"number\",\n        \"std\": 8025.247037955656,\n        \"min\": -0.3,\n        \"max\": 22699.0,\n        \"num_unique_values\": 5,\n        \"samples\": [\n          0.2995506409974007,\n          0.3,\n          0.015672737641519597\n        ],\n        \"semantic_type\": \"\",\n        \"description\": \"\"\n      }\n    },\n    {\n      \"column\": \"total_amount\",\n      \"properties\": {\n        \"dtype\": \"number\",\n        \"std\": 7978.5383392959075,\n        \"min\": -120.3,\n        \"max\": 22699.0,\n        \"num_unique_values\": 8,\n        \"samples\": [\n          16.310502224767614,\n          11.8,\n          22699.0\n        ],\n        \"semantic_type\": \"\",\n        \"description\": \"\"\n      }\n    }\n  ]\n}"
            }
          },
          "metadata": {},
          "execution_count": 9
        }
      ]
    },
    {
      "cell_type": "markdown",
      "source": [
        "Boxplots"
      ],
      "metadata": {
        "id": "5urCIf9rz5LJ"
      }
    },
    {
      "cell_type": "code",
      "source": [
        "# Convert data columns to datetime\n",
        "df['tpep_pickup_datetime']=pd.to_datetime(df['tpep_pickup_datetime'])\n",
        "df['tpep_dropoff_datetime']=pd.to_datetime(df['tpep_dropoff_datetime'])"
      ],
      "metadata": {
        "id": "KZQzaUkWyHYm"
      },
      "execution_count": 10,
      "outputs": []
    },
    {
      "cell_type": "code",
      "source": [
        "# Create box plot of trip_distance\n",
        "plt.figure(figsize=(7,2))\n",
        "plt.title('trip_distance')\n",
        "sns.boxplot(data=None, x=df['trip_distance'], fliersize=1);"
      ],
      "metadata": {
        "colab": {
          "base_uri": "https://localhost:8080/",
          "height": 256
        },
        "id": "cKuqy-5v0C0F",
        "outputId": "a918c4fc-42b7-438e-a536-b13e598f1e5f"
      },
      "execution_count": 11,
      "outputs": [
        {
          "output_type": "display_data",
          "data": {
            "text/plain": [
              "<Figure size 700x200 with 1 Axes>"
            ],
            "image/png": "[encoded data removed]"
          },
          "metadata": {}
        }
      ]
    },
    {
      "cell_type": "code",
      "source": [
        "# Create histogram of trip_distance\n",
        "plt.figure(figsize=(10,5))\n",
        "sns.histplot(df['trip_distance'], bins=range(0,26,1))\n",
        "plt.title('Trip Distance histogram');"
      ],
      "metadata": {
        "colab": {
          "base_uri": "https://localhost:8080/",
          "height": 370
        },
        "id": "4shK_ZcG0Gd_",
        "outputId": "e22ca16a-42d6-4423-e425-ad1cf26ccd14"
      },
      "execution_count": 12,
      "outputs": [
        {
          "output_type": "display_data",
          "data": {
            "text/plain": [
              "<Figure size 1000x500 with 1 Axes>"
            ],
            "image/png": "[encoded data removed]"
          },
          "metadata": {}
        }
      ]
    },
    {
      "cell_type": "markdown",
      "source": [
        "Note: The majority of trips were journeys of less than two miles. The number of trips falls away steeply as the distance traveled increases beyond two miles."
      ],
      "metadata": {
        "id": "L8iE3xuf0hA9"
      }
    },
    {
      "cell_type": "code",
      "source": [
        "# Create box plot of total_amount\n",
        "plt.figure(figsize=(7,2))\n",
        "plt.title('total_amount')\n",
        "sns.boxplot(x=df['total_amount'], fliersize=1);"
      ],
      "metadata": {
        "colab": {
          "base_uri": "https://localhost:8080/",
          "height": 256
        },
        "id": "R_M9N0X80bpY",
        "outputId": "992b03d1-b1fb-4a0c-9e6e-d2fa2500e61e"
      },
      "execution_count": 14,
      "outputs": [
        {
          "output_type": "display_data",
          "data": {
            "text/plain": [
              "<Figure size 700x200 with 1 Axes>"
            ],
            "image/png": "[encoded data removed]"
          },
          "metadata": {}
        }
      ]
    },
    {
      "cell_type": "code",
      "source": [
        "# Create histogram of total_amount\n",
        "plt.figure(figsize=(12,6))\n",
        "ax = sns.histplot(df['total_amount'], bins=range(-10,101,5))\n",
        "ax.set_xticks(range(-10,101,5))\n",
        "ax.set_xticklabels(range(-10,101,5))\n",
        "plt.title('Total amount histogram');"
      ],
      "metadata": {
        "colab": {
          "base_uri": "https://localhost:8080/",
          "height": 365
        },
        "id": "54iPH1zv1BtB",
        "outputId": "04b6ab65-2e1e-4c5d-cfaa-75f3671489b8"
      },
      "execution_count": 15,
      "outputs": [
        {
          "output_type": "display_data",
          "data": {
            "text/plain": [
              "<Figure size 1200x600 with 1 Axes>"
            ],
            "image/png": "[encoded data removed]"
          },
          "metadata": {}
        }
      ]
    },
    {
      "cell_type": "markdown",
      "source": [
        "Note: The total cost of each trip also has a distribution that skews right, with most costs falling in the $5-15 range."
      ],
      "metadata": {
        "id": "GBczJPDn16bF"
      }
    },
    {
      "cell_type": "code",
      "source": [
        "# Create box plot of tip_amount\n",
        "plt.figure(figsize=(7,2))\n",
        "plt.title('tip_amount')\n",
        "sns.boxplot(x=df['tip_amount'], fliersize=1);"
      ],
      "metadata": {
        "colab": {
          "base_uri": "https://localhost:8080/",
          "height": 256
        },
        "id": "jhv0bpjH176e",
        "outputId": "96710143-fe7a-4467-bc06-82518616a36b"
      },
      "execution_count": 16,
      "outputs": [
        {
          "output_type": "display_data",
          "data": {
            "text/plain": [
              "<Figure size 700x200 with 1 Axes>"
            ],
            "image/png": "[encoded data removed]"
          },
          "metadata": {}
        }
      ]
    },
    {
      "cell_type": "code",
      "source": [
        "# Create histogram of tip_amount\n",
        "plt.figure(figsize=(12,6))\n",
        "ax = sns.histplot(df['tip_amount'], bins=range(0,21,1))\n",
        "ax.set_xticks(range(0,21,2))\n",
        "ax.set_xticklabels(range(0,21,2))\n",
        "plt.title('Tip amount histogram');"
      ],
      "metadata": {
        "colab": {
          "base_uri": "https://localhost:8080/",
          "height": 365
        },
        "id": "0K1UKxcS1_jS",
        "outputId": "2e07f5e7-0d8f-4047-e7f0-ce2c5dd1def8"
      },
      "execution_count": 17,
      "outputs": [
        {
          "output_type": "display_data",
          "data": {
            "text/plain": [
              "<Figure size 1200x600 with 1 Axes>"
            ],
            "image/png": "[encoded data removed]"
          },
          "metadata": {}
        }
      ]
    },
    {
      "cell_type": "markdown",
      "source": [
        "Note: The distribution for tip amount is right-skewed, with nearly all the tips in the $0-3 range."
      ],
      "metadata": {
        "id": "dGmEwI3v2CBf"
      }
    },
    {
      "cell_type": "code",
      "source": [
        "# Create histogram of tip_amount by vendor\n",
        "plt.figure(figsize=(12,7))\n",
        "ax = sns.histplot(data=df, x='tip_amount', bins=range(0,21,1),\n",
        "                  hue='VendorID',\n",
        "                  multiple='stack',\n",
        "                  palette='pastel')\n",
        "ax.set_xticks(range(0,21,1))\n",
        "ax.set_xticklabels(range(0,21,1))\n",
        "plt.title('Tip amount by vendor histogram');"
      ],
      "metadata": {
        "colab": {
          "base_uri": "https://localhost:8080/",
          "height": 414
        },
        "id": "y2ECu0sZ2Efs",
        "outputId": "5d7ca364-70e3-4372-c74a-3034d101f5e7"
      },
      "execution_count": 18,
      "outputs": [
        {
          "output_type": "display_data",
          "data": {
            "text/plain": [
              "<Figure size 1200x700 with 1 Axes>"
            ],
            "image/png": "[encoded data removed]"
          },
          "metadata": {}
        }
      ]
    },
    {
      "cell_type": "markdown",
      "source": [
        "Note: Separating the tip amount by vendor reveals that there are no noticeable aberrations in the distribution of tips between the two vendors in the dataset. Vendor two has a slightly higher share of the rides, and this proportion is approximately maintained for all tip amounts.\n",
        "\n",
        "Next, zoom in on the upper end of the range of tips to check whether vendor one gets noticeably more of the most generous tips."
      ],
      "metadata": {
        "id": "8phRAS9R2H77"
      }
    },
    {
      "cell_type": "code",
      "source": [
        "# Create histogram of tip_amount by vendor for tips > $10\n",
        "tips_over_ten = df[df['tip_amount'] > 10]\n",
        "plt.figure(figsize=(12,7))\n",
        "ax = sns.histplot(data=tips_over_ten, x='tip_amount', bins=range(10,21,1),\n",
        "                  hue='VendorID',\n",
        "                  multiple='stack',\n",
        "                  palette='pastel')\n",
        "ax.set_xticks(range(10,21,1))\n",
        "ax.set_xticklabels(range(10,21,1))\n",
        "plt.title('Tip amount by vendor histogram');"
      ],
      "metadata": {
        "colab": {
          "base_uri": "https://localhost:8080/",
          "height": 418
        },
        "id": "Fz1dyzqP2JkK",
        "outputId": "6fd02e00-9427-470f-b120-7a0c03115ddf"
      },
      "execution_count": 19,
      "outputs": [
        {
          "output_type": "display_data",
          "data": {
            "text/plain": [
              "<Figure size 1200x700 with 1 Axes>"
            ],
            "image/png": "[encoded data removed]"
          },
          "metadata": {}
        }
      ]
    },
    {
      "cell_type": "markdown",
      "source": [
        "Note: The proportions are maintained even at these higher tip amounts, with the exception being at highest extremity, but this is not noteworthy due to the low sample size at these tip amounts."
      ],
      "metadata": {
        "id": "9YidjT4C2O25"
      }
    },
    {
      "cell_type": "code",
      "source": [
        "df['passenger_count'].value_counts()"
      ],
      "metadata": {
        "colab": {
          "base_uri": "https://localhost:8080/",
          "height": 335
        },
        "id": "pNnDc_JT2Tpp",
        "outputId": "af6cc2df-8fdd-4150-976d-7600f59e166e"
      },
      "execution_count": 20,
      "outputs": [
        {
          "output_type": "execute_result",
          "data": {
            "text/plain": [
              "passenger_count\n",
              "1    16117\n",
              "2     3305\n",
              "5     1143\n",
              "3      953\n",
              "6      693\n",
              "4      455\n",
              "0       33\n",
              "Name: count, dtype: int64"
            ],
            "text/html": [
              "<div>\n",
              "<style scoped>\n",
              "    .dataframe tbody tr th:only-of-type {\n",
              "        vertical-align: middle;\n",
              "    }\n",
              "\n",
              "    .dataframe tbody tr th {\n",
              "        vertical-align: top;\n",
              "    }\n",
              "\n",
              "    .dataframe thead th {\n",
              "        text-align: right;\n",
              "    }\n",
              "</style>\n",
              "<table border=\"1\" class=\"dataframe\">\n",
              "  <thead>\n",
              "    <tr style=\"text-align: right;\">\n",
              "      <th></th>\n",
              "      <th>count</th>\n",
              "    </tr>\n",
              "    <tr>\n",
              "      <th>passenger_count</th>\n",
              "      <th></th>\n",
              "    </tr>\n",
              "  </thead>\n",
              "  <tbody>\n",
              "    <tr>\n",
              "      <th>1</th>\n",
              "      <td>16117</td>\n",
              "    </tr>\n",
              "    <tr>\n",
              "      <th>2</th>\n",
              "      <td>3305</td>\n",
              "    </tr>\n",
              "    <tr>\n",
              "      <th>5</th>\n",
              "      <td>1143</td>\n",
              "    </tr>\n",
              "    <tr>\n",
              "      <th>3</th>\n",
              "      <td>953</td>\n",
              "    </tr>\n",
              "    <tr>\n",
              "      <th>6</th>\n",
              "      <td>693</td>\n",
              "    </tr>\n",
              "    <tr>\n",
              "      <th>4</th>\n",
              "      <td>455</td>\n",
              "    </tr>\n",
              "    <tr>\n",
              "      <th>0</th>\n",
              "      <td>33</td>\n",
              "    </tr>\n",
              "  </tbody>\n",
              "</table>\n",
              "</div><br><label><b>dtype:</b> int64</label>"
            ]
          },
          "metadata": {},
          "execution_count": 20
        }
      ]
    },
    {
      "cell_type": "markdown",
      "source": [
        " Note: Nearly two thirds of the rides were single occupancy, though there were still nearly 700 rides with as many as six passengers. Also, there are 33 rides with an occupancy count of zero, which doesn't make sense. These would likely be dropped unless a reasonable explanation can be found for them."
      ],
      "metadata": {
        "id": "u17o310B2XHe"
      }
    },
    {
      "cell_type": "code",
      "source": [
        "# Step 1: Convert 'tip_amount' to numeric, forcing errors to NaN\n",
        "df['tip_amount'] = pd.to_numeric(df['tip_amount'], errors='coerce')\n",
        "\n",
        "# Step 2: Handle missing or invalid data (remove rows with NaN in 'tip_amount')\n",
        "df = df.dropna(subset=['tip_amount'])\n",
        "\n",
        "# Step 3: Calculate mean tips by passenger_count\n",
        "mean_tips_by_passenger_count = df.groupby('passenger_count')['tip_amount'].mean()\n",
        "\n",
        "# Print the result\n",
        "print(mean_tips_by_passenger_count)\n"
      ],
      "metadata": {
        "colab": {
          "base_uri": "https://localhost:8080/"
        },
        "id": "dPzDWyV62aYy",
        "outputId": "f680bcf9-9251-44f1-d038-123a23dc6c98"
      },
      "execution_count": 25,
      "outputs": [
        {
          "output_type": "stream",
          "name": "stdout",
          "text": [
            "passenger_count\n",
            "0    2.135758\n",
            "1    1.848920\n",
            "2    1.856378\n",
            "3    1.716768\n",
            "4    1.530264\n",
            "5    1.873185\n",
            "6    1.720260\n",
            "Name: tip_amount, dtype: float64\n"
          ]
        }
      ]
    },
    {
      "cell_type": "code",
      "source": [
        "import pandas as pd\n",
        "\n",
        "# Step 1: Strip column names to remove any leading/trailing spaces\n",
        "df.columns = df.columns.str.strip()\n",
        "\n",
        "# Step 2: Verify that 'tip_amount' column exists\n",
        "if 'tip_amount' in df.columns:\n",
        "    # Step 3: Convert 'tip_amount' to numeric, forcing errors to NaN\n",
        "    df['tip_amount'] = pd.to_numeric(df['tip_amount'], errors='coerce')\n",
        "\n",
        "    # Step 4: Handle missing or invalid data (remove rows with NaN in 'tip_amount')\n",
        "    df = df.dropna(subset=['tip_amount'])\n",
        "\n",
        "    # Step 5: Calculate mean tips by passenger_count\n",
        "    mean_tips_by_passenger_count = df.groupby('passenger_count')['tip_amount'].mean()\n",
        "\n",
        "    # Print the result\n",
        "    print(mean_tips_by_passenger_count)\n",
        "else:\n",
        "    print(\"'tip_amount' column is missing in the dataset.\")\n"
      ],
      "metadata": {
        "colab": {
          "base_uri": "https://localhost:8080/"
        },
        "id": "VYe_Xx6g4xpZ",
        "outputId": "07bed035-dfbc-4d8a-f692-ffaa42daf13d"
      },
      "execution_count": 28,
      "outputs": [
        {
          "output_type": "stream",
          "name": "stdout",
          "text": [
            "passenger_count\n",
            "0    2.135758\n",
            "1    1.848920\n",
            "2    1.856378\n",
            "3    1.716768\n",
            "4    1.530264\n",
            "5    1.873185\n",
            "6    1.720260\n",
            "Name: tip_amount, dtype: float64\n"
          ]
        }
      ]
    },
    {
      "cell_type": "code",
      "source": [
        "# Use the same data provided\n",
        "data = mean_tips_by_passenger_count\n",
        "\n",
        "# Set color palette and rank\n",
        "pal = sns.color_palette(\"Greens_d\", len(data))\n",
        "rank = data.argsort().argsort()\n",
        "\n",
        "# Create figure and plot\n",
        "plt.figure(figsize=(12, 7))\n",
        "ax = sns.barplot(x=data.index,\n",
        "                 y=data.values,\n",
        "                 palette=np.array(pal[::-1])[rank])\n",
        "\n",
        "# Add horizontal line for global mean of tips\n",
        "ax.axhline(mean_tips_by_passenger_count.mean(), ls='--', color='red', label='global mean')\n",
        "\n",
        "# Add legend and titles\n",
        "ax.legend()\n",
        "plt.title('Mean tip amount by passenger count', fontsize=16)\n",
        "plt.xlabel('Passenger Count')\n",
        "plt.ylabel('Mean Tip Amount ($)')\n",
        "\n",
        "# Show plot\n",
        "plt.show()\n"
      ],
      "metadata": {
        "colab": {
          "base_uri": "https://localhost:8080/",
          "height": 559
        },
        "id": "adI_ob465KdW",
        "outputId": "7e29b8de-9cab-42f0-8dc2-9ece177a5026"
      },
      "execution_count": 32,
      "outputs": [
        {
          "output_type": "stream",
          "name": "stderr",
          "text": [
            "<ipython-input-32-94bf3e79aefa>:10: FutureWarning: \n",
            "\n",
            "Passing `palette` without assigning `hue` is deprecated and will be removed in v0.14.0. Assign the `x` variable to `hue` and set `legend=False` for the same effect.\n",
            "\n",
            "  ax = sns.barplot(x=data.index,\n",
            "<ipython-input-32-94bf3e79aefa>:10: UserWarning: Numpy array is not a supported type for `palette`. Please convert your palette to a list. This will become an error in v0.14\n",
            "  ax = sns.barplot(x=data.index,\n"
          ]
        },
        {
          "output_type": "display_data",
          "data": {
            "text/plain": [
              "<Figure size 1200x700 with 1 Axes>"
            ],
            "image/png": "[encoded data removed]"
          },
          "metadata": {}
        }
      ]
    },
    {
      "cell_type": "markdown",
      "source": [
        "Note: Mean tip amount varies very little by passenger count. Although it does drop noticeably for four-passenger rides, it's expected that there would be a higher degree of fluctuation because rides with four passengers were the least plentiful in the dataset (aside from rides with zero passengers).\n"
      ],
      "metadata": {
        "id": "IxXqa0u65g7U"
      }
    },
    {
      "cell_type": "code",
      "source": [
        "# Create a month column\n",
        "df['month'] = df['tpep_pickup_datetime'].dt.month_name()\n",
        "# Create a day column\n",
        "df['day'] = df['tpep_pickup_datetime'].dt.day_name()"
      ],
      "metadata": {
        "id": "Hbta98Hv5gr-"
      },
      "execution_count": 33,
      "outputs": []
    },
    {
      "cell_type": "code",
      "source": [
        "# Get total number of rides for each month\n",
        "monthly_rides = df['month'].value_counts()\n",
        "monthly_rides"
      ],
      "metadata": {
        "colab": {
          "base_uri": "https://localhost:8080/",
          "height": 492
        },
        "id": "PazE1A3Q5mqe",
        "outputId": "e6984e6d-de9a-4253-8ece-eb1c3951d804"
      },
      "execution_count": 34,
      "outputs": [
        {
          "output_type": "execute_result",
          "data": {
            "text/plain": [
              "month\n",
              "March        2049\n",
              "October      2027\n",
              "April        2019\n",
              "May          2013\n",
              "January      1997\n",
              "June         1964\n",
              "December     1863\n",
              "November     1843\n",
              "February     1769\n",
              "September    1734\n",
              "August       1724\n",
              "July         1697\n",
              "Name: count, dtype: int64"
            ],
            "text/html": [
              "<div>\n",
              "<style scoped>\n",
              "    .dataframe tbody tr th:only-of-type {\n",
              "        vertical-align: middle;\n",
              "    }\n",
              "\n",
              "    .dataframe tbody tr th {\n",
              "        vertical-align: top;\n",
              "    }\n",
              "\n",
              "    .dataframe thead th {\n",
              "        text-align: right;\n",
              "    }\n",
              "</style>\n",
              "<table border=\"1\" class=\"dataframe\">\n",
              "  <thead>\n",
              "    <tr style=\"text-align: right;\">\n",
              "      <th></th>\n",
              "      <th>count</th>\n",
              "    </tr>\n",
              "    <tr>\n",
              "      <th>month</th>\n",
              "      <th></th>\n",
              "    </tr>\n",
              "  </thead>\n",
              "  <tbody>\n",
              "    <tr>\n",
              "      <th>March</th>\n",
              "      <td>2049</td>\n",
              "    </tr>\n",
              "    <tr>\n",
              "      <th>October</th>\n",
              "      <td>2027</td>\n",
              "    </tr>\n",
              "    <tr>\n",
              "      <th>April</th>\n",
              "      <td>2019</td>\n",
              "    </tr>\n",
              "    <tr>\n",
              "      <th>May</th>\n",
              "      <td>2013</td>\n",
              "    </tr>\n",
              "    <tr>\n",
              "      <th>January</th>\n",
              "      <td>1997</td>\n",
              "    </tr>\n",
              "    <tr>\n",
              "      <th>June</th>\n",
              "      <td>1964</td>\n",
              "    </tr>\n",
              "    <tr>\n",
              "      <th>December</th>\n",
              "      <td>1863</td>\n",
              "    </tr>\n",
              "    <tr>\n",
              "      <th>November</th>\n",
              "      <td>1843</td>\n",
              "    </tr>\n",
              "    <tr>\n",
              "      <th>February</th>\n",
              "      <td>1769</td>\n",
              "    </tr>\n",
              "    <tr>\n",
              "      <th>September</th>\n",
              "      <td>1734</td>\n",
              "    </tr>\n",
              "    <tr>\n",
              "      <th>August</th>\n",
              "      <td>1724</td>\n",
              "    </tr>\n",
              "    <tr>\n",
              "      <th>July</th>\n",
              "      <td>1697</td>\n",
              "    </tr>\n",
              "  </tbody>\n",
              "</table>\n",
              "</div><br><label><b>dtype:</b> int64</label>"
            ]
          },
          "metadata": {},
          "execution_count": 34
        }
      ]
    },
    {
      "cell_type": "markdown",
      "source": [
        "Note: The months are out of order.\n",
        "\n",
        "Reorder the results to put the months in calendar order."
      ],
      "metadata": {
        "id": "LT_5xKyv5qC_"
      }
    },
    {
      "cell_type": "code",
      "source": [
        "# Reorder the monthly ride list so months go in order\n",
        "month_order = ['January', 'February', 'March', 'April', 'May', 'June', 'July',\n",
        "         'August', 'September', 'October', 'November', 'December']\n",
        "\n",
        "monthly_rides = monthly_rides.reindex(index=month_order)\n",
        "monthly_rides"
      ],
      "metadata": {
        "colab": {
          "base_uri": "https://localhost:8080/",
          "height": 492
        },
        "id": "l7mzp7Jg5pua",
        "outputId": "5128e0ba-50f2-4e72-b145-9529094b0df5"
      },
      "execution_count": 35,
      "outputs": [
        {
          "output_type": "execute_result",
          "data": {
            "text/plain": [
              "month\n",
              "January      1997\n",
              "February     1769\n",
              "March        2049\n",
              "April        2019\n",
              "May          2013\n",
              "June         1964\n",
              "July         1697\n",
              "August       1724\n",
              "September    1734\n",
              "October      2027\n",
              "November     1843\n",
              "December     1863\n",
              "Name: count, dtype: int64"
            ],
            "text/html": [
              "<div>\n",
              "<style scoped>\n",
              "    .dataframe tbody tr th:only-of-type {\n",
              "        vertical-align: middle;\n",
              "    }\n",
              "\n",
              "    .dataframe tbody tr th {\n",
              "        vertical-align: top;\n",
              "    }\n",
              "\n",
              "    .dataframe thead th {\n",
              "        text-align: right;\n",
              "    }\n",
              "</style>\n",
              "<table border=\"1\" class=\"dataframe\">\n",
              "  <thead>\n",
              "    <tr style=\"text-align: right;\">\n",
              "      <th></th>\n",
              "      <th>count</th>\n",
              "    </tr>\n",
              "    <tr>\n",
              "      <th>month</th>\n",
              "      <th></th>\n",
              "    </tr>\n",
              "  </thead>\n",
              "  <tbody>\n",
              "    <tr>\n",
              "      <th>January</th>\n",
              "      <td>1997</td>\n",
              "    </tr>\n",
              "    <tr>\n",
              "      <th>February</th>\n",
              "      <td>1769</td>\n",
              "    </tr>\n",
              "    <tr>\n",
              "      <th>March</th>\n",
              "      <td>2049</td>\n",
              "    </tr>\n",
              "    <tr>\n",
              "      <th>April</th>\n",
              "      <td>2019</td>\n",
              "    </tr>\n",
              "    <tr>\n",
              "      <th>May</th>\n",
              "      <td>2013</td>\n",
              "    </tr>\n",
              "    <tr>\n",
              "      <th>June</th>\n",
              "      <td>1964</td>\n",
              "    </tr>\n",
              "    <tr>\n",
              "      <th>July</th>\n",
              "      <td>1697</td>\n",
              "    </tr>\n",
              "    <tr>\n",
              "      <th>August</th>\n",
              "      <td>1724</td>\n",
              "    </tr>\n",
              "    <tr>\n",
              "      <th>September</th>\n",
              "      <td>1734</td>\n",
              "    </tr>\n",
              "    <tr>\n",
              "      <th>October</th>\n",
              "      <td>2027</td>\n",
              "    </tr>\n",
              "    <tr>\n",
              "      <th>November</th>\n",
              "      <td>1843</td>\n",
              "    </tr>\n",
              "    <tr>\n",
              "      <th>December</th>\n",
              "      <td>1863</td>\n",
              "    </tr>\n",
              "  </tbody>\n",
              "</table>\n",
              "</div><br><label><b>dtype:</b> int64</label>"
            ]
          },
          "metadata": {},
          "execution_count": 35
        }
      ]
    },
    {
      "cell_type": "code",
      "source": [
        "# Show the index\n",
        "monthly_rides.index"
      ],
      "metadata": {
        "colab": {
          "base_uri": "https://localhost:8080/"
        },
        "id": "9EG_BN4G5wIb",
        "outputId": "fc53fd63-cccb-4c0d-f987-64d99d306cd4"
      },
      "execution_count": 36,
      "outputs": [
        {
          "output_type": "execute_result",
          "data": {
            "text/plain": [
              "Index(['January', 'February', 'March', 'April', 'May', 'June', 'July',\n",
              "       'August', 'September', 'October', 'November', 'December'],\n",
              "      dtype='object', name='month')"
            ]
          },
          "metadata": {},
          "execution_count": 36
        }
      ]
    },
    {
      "cell_type": "code",
      "source": [
        "# Create a bar plot of total rides per month\n",
        "plt.figure(figsize=(12,7))\n",
        "ax = sns.barplot(x=monthly_rides.index, y=monthly_rides)\n",
        "ax.set_xticklabels(month_order)\n",
        "plt.title('Ride count by month', fontsize=16);"
      ],
      "metadata": {
        "colab": {
          "base_uri": "https://localhost:8080/",
          "height": 470
        },
        "id": "J8WwlG-m5ywZ",
        "outputId": "326f1383-0be6-45cc-8f9c-e263f25fbcab"
      },
      "execution_count": 37,
      "outputs": [
        {
          "output_type": "stream",
          "name": "stderr",
          "text": [
            "<ipython-input-37-7d2fefed877f>:4: UserWarning: FixedFormatter should only be used together with FixedLocator\n",
            "  ax.set_xticklabels(month_order)\n"
          ]
        },
        {
          "output_type": "display_data",
          "data": {
            "text/plain": [
              "<Figure size 1200x700 with 1 Axes>"
            ],
            "image/png": "[encoded data removed]"
          },
          "metadata": {}
        }
      ]
    },
    {
      "cell_type": "markdown",
      "source": [
        "Note: Monthly rides are fairly consistent, with notable dips in the summer months of July, August, and September, and also in February."
      ],
      "metadata": {
        "id": "GoYKy5-X547R"
      }
    },
    {
      "cell_type": "code",
      "source": [
        "# Repeat the above process, this time for rides by day\n",
        "daily_rides = df['day'].value_counts()\n",
        "day_order = ['Monday', 'Tuesday', 'Wednesday', 'Thursday', 'Friday', 'Saturday', 'Sunday']\n",
        "daily_rides = daily_rides.reindex(index=day_order)\n",
        "daily_rides"
      ],
      "metadata": {
        "colab": {
          "base_uri": "https://localhost:8080/",
          "height": 335
        },
        "id": "Zqzy6xra54ZY",
        "outputId": "d2f67ba2-750c-4e1d-9643-1e8ce036e689"
      },
      "execution_count": 38,
      "outputs": [
        {
          "output_type": "execute_result",
          "data": {
            "text/plain": [
              "day\n",
              "Monday       2931\n",
              "Tuesday      3198\n",
              "Wednesday    3390\n",
              "Thursday     3402\n",
              "Friday       3413\n",
              "Saturday     3367\n",
              "Sunday       2998\n",
              "Name: count, dtype: int64"
            ],
            "text/html": [
              "<div>\n",
              "<style scoped>\n",
              "    .dataframe tbody tr th:only-of-type {\n",
              "        vertical-align: middle;\n",
              "    }\n",
              "\n",
              "    .dataframe tbody tr th {\n",
              "        vertical-align: top;\n",
              "    }\n",
              "\n",
              "    .dataframe thead th {\n",
              "        text-align: right;\n",
              "    }\n",
              "</style>\n",
              "<table border=\"1\" class=\"dataframe\">\n",
              "  <thead>\n",
              "    <tr style=\"text-align: right;\">\n",
              "      <th></th>\n",
              "      <th>count</th>\n",
              "    </tr>\n",
              "    <tr>\n",
              "      <th>day</th>\n",
              "      <th></th>\n",
              "    </tr>\n",
              "  </thead>\n",
              "  <tbody>\n",
              "    <tr>\n",
              "      <th>Monday</th>\n",
              "      <td>2931</td>\n",
              "    </tr>\n",
              "    <tr>\n",
              "      <th>Tuesday</th>\n",
              "      <td>3198</td>\n",
              "    </tr>\n",
              "    <tr>\n",
              "      <th>Wednesday</th>\n",
              "      <td>3390</td>\n",
              "    </tr>\n",
              "    <tr>\n",
              "      <th>Thursday</th>\n",
              "      <td>3402</td>\n",
              "    </tr>\n",
              "    <tr>\n",
              "      <th>Friday</th>\n",
              "      <td>3413</td>\n",
              "    </tr>\n",
              "    <tr>\n",
              "      <th>Saturday</th>\n",
              "      <td>3367</td>\n",
              "    </tr>\n",
              "    <tr>\n",
              "      <th>Sunday</th>\n",
              "      <td>2998</td>\n",
              "    </tr>\n",
              "  </tbody>\n",
              "</table>\n",
              "</div><br><label><b>dtype:</b> int64</label>"
            ]
          },
          "metadata": {},
          "execution_count": 38
        }
      ]
    },
    {
      "cell_type": "code",
      "source": [
        "# Create bar plot for ride count by day\n",
        "plt.figure(figsize=(12,7))\n",
        "ax = sns.barplot(x=daily_rides.index, y=daily_rides)\n",
        "ax.set_xticklabels(day_order)\n",
        "ax.set_ylabel('Count')\n",
        "plt.title('Ride count by day', fontsize=16);"
      ],
      "metadata": {
        "colab": {
          "base_uri": "https://localhost:8080/",
          "height": 470
        },
        "id": "hi9Tcwl25-et",
        "outputId": "701aad00-a764-47ec-8865-280ff951ae80"
      },
      "execution_count": 39,
      "outputs": [
        {
          "output_type": "stream",
          "name": "stderr",
          "text": [
            "<ipython-input-39-fd95b2d5ee50>:4: UserWarning: FixedFormatter should only be used together with FixedLocator\n",
            "  ax.set_xticklabels(day_order)\n"
          ]
        },
        {
          "output_type": "display_data",
          "data": {
            "text/plain": [
              "<Figure size 1200x700 with 1 Axes>"
            ],
            "image/png": "[encoded data removed]"
          },
          "metadata": {}
        }
      ]
    },
    {
      "cell_type": "markdown",
      "source": [
        "Note: Suprisingly, Wednesday through Saturday had the highest number of daily rides, while Sunday and Monday had the least.\n"
      ],
      "metadata": {
        "id": "tmOJYwSj6c9a"
      }
    },
    {
      "cell_type": "code",
      "source": [
        "\n",
        "# Ensure the 'tpep_pickup_datetime' is in datetime format\n",
        "df['tpep_pickup_datetime'] = pd.to_datetime(df['tpep_pickup_datetime'])\n",
        "\n",
        "# Extract the day of the week from the datetime column\n",
        "df['day'] = df['tpep_pickup_datetime'].dt.day_name()\n",
        "\n",
        "# Group by 'day' and sum only the 'total_amount' column\n",
        "total_amount_day = df.groupby('day')[['total_amount']].sum()\n",
        "\n",
        "# Define the correct order for days of the week\n",
        "day_order = ['Monday', 'Tuesday', 'Wednesday', 'Thursday', 'Friday', 'Saturday', 'Sunday']\n",
        "\n",
        "# Reindex the DataFrame to follow the correct day order\n",
        "total_amount_day = total_amount_day.reindex(day_order)\n",
        "\n",
        "# Plot total revenue by day of the week\n",
        "plt.figure(figsize=(10, 6))\n",
        "sns.barplot(x=total_amount_day.index, y=total_amount_day['total_amount'], palette='Blues_d')\n",
        "plt.title('Total Revenue by Day of the Week')\n",
        "plt.xlabel('Day')\n",
        "plt.ylabel('Total Revenue ($)')\n",
        "plt.show()"
      ],
      "metadata": {
        "colab": {
          "base_uri": "https://localhost:8080/",
          "height": 531
        },
        "id": "vOYbp-AZ6hXX",
        "outputId": "b0db7188-d53c-4bf3-ba45-318ee7b2c79d"
      },
      "execution_count": 43,
      "outputs": [
        {
          "output_type": "stream",
          "name": "stderr",
          "text": [
            "<ipython-input-43-3ca834274a12>:18: FutureWarning: \n",
            "\n",
            "Passing `palette` without assigning `hue` is deprecated and will be removed in v0.14.0. Assign the `x` variable to `hue` and set `legend=False` for the same effect.\n",
            "\n",
            "  sns.barplot(x=total_amount_day.index, y=total_amount_day['total_amount'], palette='Blues_d')\n"
          ]
        },
        {
          "output_type": "display_data",
          "data": {
            "text/plain": [
              "<Figure size 1000x600 with 1 Axes>"
            ],
            "image/png": "[encoded data removed]"
          },
          "metadata": {}
        }
      ]
    },
    {
      "cell_type": "markdown",
      "source": [
        " Note: Thursday had the highest gross revenue of all days, and Sunday and Monday had the least. Interestingly, although Saturday had only 35 fewer rides than Thursday, its gross revenue was ~$6,000 less than Thursday's—more than a 10% drop."
      ],
      "metadata": {
        "id": "nBusRImP7ECO"
      }
    },
    {
      "cell_type": "code",
      "source": [
        "# Ensure 'tpep_pickup_datetime' is in datetime format\n",
        "df['tpep_pickup_datetime'] = pd.to_datetime(df['tpep_pickup_datetime'])\n",
        "\n",
        "# Extract the month from the datetime column\n",
        "df['month'] = df['tpep_pickup_datetime'].dt.month_name()\n",
        "\n",
        "# Group by 'month' and sum only the 'total_amount' column\n",
        "total_amount_month = df.groupby('month')[['total_amount']].sum()\n",
        "\n",
        "# Define the correct order for months\n",
        "month_order = ['January', 'February', 'March', 'April', 'May', 'June', 'July', 'August', 'September', 'October', 'November', 'December']\n",
        "\n",
        "# Reindex the DataFrame to follow the correct month order\n",
        "total_amount_month = total_amount_month.reindex(month_order)\n",
        "\n",
        "# Plot total revenue by month\n",
        "plt.figure(figsize=(10, 6))\n",
        "sns.barplot(x=total_amount_month.index, y=total_amount_month['total_amount'], palette='Blues_d')\n",
        "plt.title('Total Revenue by Month')\n",
        "plt.xlabel('Month')\n",
        "plt.ylabel('Total Revenue ($)')\n",
        "plt.xticks(rotation=45)\n",
        "plt.show()"
      ],
      "metadata": {
        "colab": {
          "base_uri": "https://localhost:8080/",
          "height": 568
        },
        "id": "R_Ft6HSh7DkH",
        "outputId": "76060e62-8600-4a0c-8989-69c056de76d3"
      },
      "execution_count": 45,
      "outputs": [
        {
          "output_type": "stream",
          "name": "stderr",
          "text": [
            "<ipython-input-45-cf875407a5aa>:18: FutureWarning: \n",
            "\n",
            "Passing `palette` without assigning `hue` is deprecated and will be removed in v0.14.0. Assign the `x` variable to `hue` and set `legend=False` for the same effect.\n",
            "\n",
            "  sns.barplot(x=total_amount_month.index, y=total_amount_month['total_amount'], palette='Blues_d')\n"
          ]
        },
        {
          "output_type": "display_data",
          "data": {
            "text/plain": [
              "<Figure size 1000x600 with 1 Axes>"
            ],
            "image/png": "[encoded data removed]"
          },
          "metadata": {}
        }
      ]
    },
    {
      "cell_type": "markdown",
      "source": [
        "Note: Monthly revenue generally follows the pattern of monthly rides, with noticeable dips in the summer months of July, August, and September, and also one in February.\n"
      ],
      "metadata": {
        "id": "KDhNjY4m7VGQ"
      }
    },
    {
      "cell_type": "markdown",
      "source": [
        "Plot mean trip distance by drop-off location"
      ],
      "metadata": {
        "id": "UZh5gs6e-dhg"
      }
    },
    {
      "cell_type": "code",
      "source": [
        "# Get number of unique drop-off location IDs\n",
        "df['DOLocationID'].nunique()"
      ],
      "metadata": {
        "colab": {
          "base_uri": "https://localhost:8080/"
        },
        "id": "K1I-xhBy-cf-",
        "outputId": "fc11608f-ed97-442a-c0af-d00a6f04833e"
      },
      "execution_count": 46,
      "outputs": [
        {
          "output_type": "execute_result",
          "data": {
            "text/plain": [
              "216"
            ]
          },
          "metadata": {},
          "execution_count": 46
        }
      ]
    },
    {
      "cell_type": "code",
      "source": [
        "import pandas as pd\n",
        "\n",
        "# Step 1: Identify and fix non-numeric values in 'trip_distance'\n",
        "# Convert 'trip_distance' to numeric, forcing errors to NaN\n",
        "df['trip_distance'] = pd.to_numeric(df['trip_distance'], errors='coerce')\n",
        "\n",
        "# Step 2: Drop rows with NaN in 'trip_distance'\n",
        "df_clean = df.dropna(subset=['trip_distance'])\n",
        "\n",
        "# Step 3: Calculate the mean trip distance for each drop-off location\n",
        "distance_by_dropoff = df_clean.groupby('DOLocationID')['trip_distance'].mean()\n",
        "\n",
        "# Step 4: Sort the results in descending order by mean trip distance\n",
        "distance_by_dropoff = distance_by_dropoff.sort_values(ascending=False)\n",
        "\n",
        "# Display the results\n",
        "print(distance_by_dropoff)\n"
      ],
      "metadata": {
        "colab": {
          "base_uri": "https://localhost:8080/"
        },
        "id": "nUQRJGsi-kFU",
        "outputId": "79dcebd0-d0a8-47bb-92de-d71eb2c5dbc8"
      },
      "execution_count": 50,
      "outputs": [
        {
          "output_type": "stream",
          "name": "stdout",
          "text": [
            "DOLocationID\n",
            "23     24.275000\n",
            "29     21.650000\n",
            "210    20.500000\n",
            "11     17.945000\n",
            "51     17.310000\n",
            "         ...    \n",
            "137     1.818852\n",
            "234     1.727806\n",
            "237     1.555494\n",
            "193     1.390556\n",
            "207     1.200000\n",
            "Name: trip_distance, Length: 216, dtype: float64\n"
          ]
        }
      ]
    },
    {
      "cell_type": "code",
      "source": [
        "\n",
        "\n",
        "# Create a bar plot of mean trip distances by drop-off location in ascending order by distance\n",
        "plt.figure(figsize=(14,6))\n",
        "\n",
        "# Since 'distance_by_dropoff' is a Series, use .values for y-values\n",
        "ax = sns.barplot(x=distance_by_dropoff.index,\n",
        "                 y=distance_by_dropoff.values,\n",
        "                 order=distance_by_dropoff.index)\n",
        "\n",
        "# Optional: Set x-tick labels if they are too crowded, otherwise you can comment this line\n",
        "ax.set_xticks([])\n",
        "\n",
        "plt.title('Mean trip distance by drop-off location', fontsize=16)\n",
        "plt.ylabel('Mean Trip Distance (miles)')\n",
        "plt.xlabel('Drop-off Location ID')\n",
        "plt.show()\n"
      ],
      "metadata": {
        "colab": {
          "base_uri": "https://localhost:8080/",
          "height": 311
        },
        "id": "hntD4Rls_G9A",
        "outputId": "f5b4773e-c87d-41dc-9d35-5fac46e0d389"
      },
      "execution_count": 53,
      "outputs": [
        {
          "output_type": "display_data",
          "data": {
            "text/plain": [
              "<Figure size 1400x600 with 1 Axes>"
            ],
            "image/png": "[encoded data removed]"
          },
          "metadata": {}
        }
      ]
    },
    {
      "cell_type": "markdown",
      "source": [
        "Note: This plot presents a characteristic curve related to the cumulative density function of a normal distribution. In other words, it indicates that the drop-off points are relatively evenly distributed over the terrain. This is good to know, because geographic coordinates were not included in this dataset, so there was no obvious way to test for the distibution of locations.\n"
      ],
      "metadata": {
        "id": "ip-z9Mka_Xnn"
      }
    },
    {
      "cell_type": "code",
      "source": [
        "\n",
        "# 1. Generate random points on a 2D plane from a normal distribution\n",
        "test = np.round(np.random.normal(10, 5, (3000, 2)), 1)\n",
        "midway = int(len(test)/2)  # Calculate midpoint of the array of coordinates\n",
        "start = test[:midway]      # Isolate first half of array (\"pick-up locations\")\n",
        "end = test[midway:]        # Isolate second half of array (\"drop-off locations\")\n",
        "\n",
        "# 2. Calculate Euclidean distances between points in first half and second half of array\n",
        "distances = (start - end)**2\n",
        "distances = distances.sum(axis=-1)\n",
        "distances = np.sqrt(distances)\n",
        "\n",
        "# 3. Group the coordinates by \"drop-off location\", compute mean distance\n",
        "test_df = pd.DataFrame({'start': [tuple(x) for x in start.tolist()],\n",
        "                        'end': [tuple(x) for x in end.tolist()],\n",
        "                        'distance': distances})\n",
        "\n",
        "# Calculate mean distance by 'end' coordinates\n",
        "data = test_df[['end', 'distance']].groupby('end').mean()\n",
        "data = data.sort_values(by='distance')\n",
        "\n",
        "# 4. Reset the index to simplify for plotting\n",
        "data = data.reset_index()\n",
        "\n",
        "# Convert the 'end' coordinate tuples to strings for better readability on the plot\n",
        "data['end_str'] = data['end'].apply(lambda x: f\"{x}\")\n",
        "\n",
        "# 5. Plot the mean distance between each endpoint (\"drop-off location\") and all points it connected to\n",
        "plt.figure(figsize=(14,6))\n",
        "ax = sns.barplot(x=data['end_str'],\n",
        "                 y=data['distance'])\n",
        "\n",
        "# Optional: Hide x-tick labels if they are too crowded, or customize them as needed\n",
        "ax.set_xticklabels([])  # Comment this line if you want to see the x-tick labels\n",
        "ax.set_xlabel('Drop-off Location (as end points)')\n",
        "ax.set_ylabel('Mean distance to all other points')\n",
        "ax.set_title('Mean distance between points taken randomly from normal distribution')\n",
        "plt.show()\n"
      ],
      "metadata": {
        "colab": {
          "base_uri": "https://localhost:8080/",
          "height": 316
        },
        "id": "2UYIz4BD_WvM",
        "outputId": "728e5b73-493e-43ae-8bfc-eb25be44a29e"
      },
      "execution_count": 55,
      "outputs": [
        {
          "output_type": "display_data",
          "data": {
            "text/plain": [
              "<Figure size 1400x600 with 1 Axes>"
            ],
            "image/png": "[encoded data removed]"
          },
          "metadata": {}
        }
      ]
    },
    {
      "cell_type": "markdown",
      "source": [
        "Note: The curve described by this graph is nearly identical to that of the mean distance traveled by each taxi ride to each drop-off location. This reveals that the drop-off locations in the taxi dataset are evenly distributed geographically. Note, however, that this does not mean that there was an even distrubtion of rides to each drop-off point. Examine this next."
      ],
      "metadata": {
        "id": "qF3DCn--_1lV"
      }
    },
    {
      "cell_type": "markdown",
      "source": [
        "First, check whether the drop-off locations IDs are consecutively numbered. For instance, does it go 1, 2, 3, 4..., or are some numbers missing (e.g., 1, 3, 4...). If numbers aren't all consecutive, the histogram will look like some locations have very few or no rides when in reality there's no bar because there's no location.\n",
        "\n",
        "There are many ways to do this.\n"
      ],
      "metadata": {
        "id": "dW0-u6a9_6Ev"
      }
    },
    {
      "cell_type": "code",
      "source": [
        "# Check if all drop-off locations are consecutively numbered\n",
        "df['DOLocationID'].max() - len(set(df['DOLocationID']))"
      ],
      "metadata": {
        "colab": {
          "base_uri": "https://localhost:8080/"
        },
        "id": "l7KDX72X_7RG",
        "outputId": "c6b8bf3e-b60c-4afc-b961-d76e6595de3f"
      },
      "execution_count": 56,
      "outputs": [
        {
          "output_type": "execute_result",
          "data": {
            "text/plain": [
              "49"
            ]
          },
          "metadata": {},
          "execution_count": 56
        }
      ]
    },
    {
      "cell_type": "markdown",
      "source": [
        "Note: There are 49 numbers that do not represent a drop-off location.\n",
        "\n",
        "To eliminate the spaces in the historgram that these missing numbers would create, sort the unique drop-off location values, then convert them to strings. This will make the histplot function display all bars directly next to each other."
      ],
      "metadata": {
        "id": "b5Vycj4l_-wS"
      }
    },
    {
      "cell_type": "code",
      "source": [
        "plt.figure(figsize=(16,4))\n",
        "# DOLocationID column is numeric, so sort in ascending order\n",
        "sorted_dropoffs = df['DOLocationID'].sort_values()\n",
        "# Convert to string\n",
        "sorted_dropoffs = sorted_dropoffs.astype('str')\n",
        "# Plot\n",
        "sns.histplot(sorted_dropoffs, bins=range(0, df['DOLocationID'].max()+1, 1))\n",
        "plt.xticks([])\n",
        "plt.xlabel('Drop-off locations')\n",
        "plt.title('Histogram of rides by drop-off location', fontsize=16);"
      ],
      "metadata": {
        "colab": {
          "base_uri": "https://localhost:8080/",
          "height": 199
        },
        "id": "3B5lUxDc_-jM",
        "outputId": "1b18623b-9b3b-447a-defa-1e89e151e779"
      },
      "execution_count": 57,
      "outputs": [
        {
          "output_type": "display_data",
          "data": {
            "text/plain": [
              "<Figure size 1600x400 with 1 Axes>"
            ],
            "image/png": "[encoded data removed]"
          },
          "metadata": {}
        }
      ]
    },
    {
      "cell_type": "markdown",
      "source": [
        "Note: Notice that out of the 200+ drop-off locations, a disproportionate number of locations receive the majority of the traffic, while all the rest get relatively few trips. It's likely that these high-traffic locations are near popular tourist attractions like the Empire State Building or Times Square, airports, and train and bus terminals. However, it would be helpful to know the location that each ID corresponds with. Unfortunately, this is not in the data."
      ],
      "metadata": {
        "id": "ZY9hifRxAGWs"
      }
    },
    {
      "cell_type": "markdown",
      "source": [
        "I have learned .... the highest distribution of trip distances are below 5 miles, but there are outliers all the way out to 35 miles. There are no missing values.\n",
        "\n",
        "My other questions are .... There are several trips that have a trip distance of \"0.0.\" What might those trips be? Will they impact our model?\n",
        "\n",
        "My client would likely want to know ... that the data includes dropoff and pickup times. We can use that information to derive a trip duration for each line of data. This would likely be something that will help the client with their model."
      ],
      "metadata": {
        "id": "ZhbqhRnpAP9E"
      }
    },
    {
      "cell_type": "code",
      "source": [
        "df['trip_duration'] = (df['tpep_dropoff_datetime']-df['tpep_pickup_datetime'])"
      ],
      "metadata": {
        "id": "IWoKLUPXAIBO"
      },
      "execution_count": 58,
      "outputs": []
    },
    {
      "cell_type": "code",
      "source": [
        "df.head(10)"
      ],
      "metadata": {
        "colab": {
          "base_uri": "https://localhost:8080/",
          "height": 430
        },
        "id": "3kAhJAczAWyZ",
        "outputId": "ea9b6507-14ef-4b33-bcc3-005d111734cb"
      },
      "execution_count": 59,
      "outputs": [
        {
          "output_type": "execute_result",
          "data": {
            "text/plain": [
              "   Unnamed: 0  VendorID tpep_pickup_datetime tpep_dropoff_datetime  \\\n",
              "0    24870114         2  2017-03-25 08:55:43   2017-03-25 09:09:47   \n",
              "1    35634249         1  2017-04-11 14:53:28   2017-04-11 15:19:58   \n",
              "2   106203690         1  2017-12-15 07:26:56   2017-12-15 07:34:08   \n",
              "3    38942136         2  2017-05-07 13:17:59   2017-05-07 13:48:14   \n",
              "4    30841670         2  2017-04-15 23:32:20   2017-04-15 23:49:03   \n",
              "5    23345809         2  2017-03-25 20:34:11   2017-03-25 20:42:11   \n",
              "6    37660487         2  2017-05-03 19:04:09   2017-05-03 20:03:47   \n",
              "7    69059411         2  2017-08-15 17:41:06   2017-08-15 18:03:05   \n",
              "8     8433159         2  2017-02-04 16:17:07   2017-02-04 16:29:14   \n",
              "9    95294817         1  2017-11-10 15:20:29   2017-11-10 15:40:55   \n",
              "\n",
              "   passenger_count  trip_distance  RatecodeID store_and_fwd_flag  \\\n",
              "0                6           3.34           1                  N   \n",
              "1                1           1.80           1                  N   \n",
              "2                1           1.00           1                  N   \n",
              "3                1           3.70           1                  N   \n",
              "4                1           4.37           1                  N   \n",
              "5                6           2.30           1                  N   \n",
              "6                1          12.83           1                  N   \n",
              "7                1           2.98           1                  N   \n",
              "8                1           1.20           1                  N   \n",
              "9                1           1.60           1                  N   \n",
              "\n",
              "   PULocationID  DOLocationID  ...  fare_amount  extra  mta_tax  tip_amount  \\\n",
              "0           100           231  ...         13.0    0.0      0.5        2.76   \n",
              "1           186            43  ...         16.0    0.0      0.5        4.00   \n",
              "2           262           236  ...          6.5    0.0      0.5        1.45   \n",
              "3           188            97  ...         20.5    0.0      0.5        6.39   \n",
              "4             4           112  ...         16.5    0.5      0.5        0.00   \n",
              "5           161           236  ...          9.0    0.5      0.5        2.06   \n",
              "6            79           241  ...         47.5    1.0      0.5        9.86   \n",
              "7           237           114  ...         16.0    1.0      0.5        1.78   \n",
              "8           234           249  ...          9.0    0.0      0.5        0.00   \n",
              "9           239           237  ...         13.0    0.0      0.5        2.75   \n",
              "\n",
              "   tolls_amount  improvement_surcharge  total_amount     month        day  \\\n",
              "0           0.0                    0.3         16.56     March   Saturday   \n",
              "1           0.0                    0.3         20.80     April    Tuesday   \n",
              "2           0.0                    0.3          8.75  December     Friday   \n",
              "3           0.0                    0.3         27.69       May     Sunday   \n",
              "4           0.0                    0.3         17.80     April   Saturday   \n",
              "5           0.0                    0.3         12.36     March   Saturday   \n",
              "6           0.0                    0.3         59.16       May  Wednesday   \n",
              "7           0.0                    0.3         19.58    August    Tuesday   \n",
              "8           0.0                    0.3          9.80  February   Saturday   \n",
              "9           0.0                    0.3         16.55  November     Friday   \n",
              "\n",
              "    trip_duration  \n",
              "0 0 days 00:14:04  \n",
              "1 0 days 00:26:30  \n",
              "2 0 days 00:07:12  \n",
              "3 0 days 00:30:15  \n",
              "4 0 days 00:16:43  \n",
              "5 0 days 00:08:00  \n",
              "6 0 days 00:59:38  \n",
              "7 0 days 00:21:59  \n",
              "8 0 days 00:12:07  \n",
              "9 0 days 00:20:26  \n",
              "\n",
              "[10 rows x 21 columns]"
            ],
            "text/html": [
              "\n",
              "  <div id=\"df-1468e959-ab05-4930-acbe-e5f8505d67b6\" class=\"colab-df-container\">\n",
              "    <div>\n",
              "<style scoped>\n",
              "    .dataframe tbody tr th:only-of-type {\n",
              "        vertical-align: middle;\n",
              "    }\n",
              "\n",
              "    .dataframe tbody tr th {\n",
              "        vertical-align: top;\n",
              "    }\n",
              "\n",
              "    .dataframe thead th {\n",
              "        text-align: right;\n",
              "    }\n",
              "</style>\n",
              "<table border=\"1\" class=\"dataframe\">\n",
              "  <thead>\n",
              "    <tr style=\"text-align: right;\">\n",
              "      <th></th>\n",
              "      <th>Unnamed: 0</th>\n",
              "      <th>VendorID</th>\n",
              "      <th>tpep_pickup_datetime</th>\n",
              "      <th>tpep_dropoff_datetime</th>\n",
              "      <th>passenger_count</th>\n",
              "      <th>trip_distance</th>\n",
              "      <th>RatecodeID</th>\n",
              "      <th>store_and_fwd_flag</th>\n",
              "      <th>PULocationID</th>\n",
              "      <th>DOLocationID</th>\n",
              "      <th>...</th>\n",
              "      <th>fare_amount</th>\n",
              "      <th>extra</th>\n",
              "      <th>mta_tax</th>\n",
              "      <th>tip_amount</th>\n",
              "      <th>tolls_amount</th>\n",
              "      <th>improvement_surcharge</th>\n",
              "      <th>total_amount</th>\n",
              "      <th>month</th>\n",
              "      <th>day</th>\n",
              "      <th>trip_duration</th>\n",
              "    </tr>\n",
              "  </thead>\n",
              "  <tbody>\n",
              "    <tr>\n",
              "      <th>0</th>\n",
              "      <td>24870114</td>\n",
              "      <td>2</td>\n",
              "      <td>2017-03-25 08:55:43</td>\n",
              "      <td>2017-03-25 09:09:47</td>\n",
              "      <td>6</td>\n",
              "      <td>3.34</td>\n",
              "      <td>1</td>\n",
              "      <td>N</td>\n",
              "      <td>100</td>\n",
              "      <td>231</td>\n",
              "      <td>...</td>\n",
              "      <td>13.0</td>\n",
              "      <td>0.0</td>\n",
              "      <td>0.5</td>\n",
              "      <td>2.76</td>\n",
              "      <td>0.0</td>\n",
              "      <td>0.3</td>\n",
              "      <td>16.56</td>\n",
              "      <td>March</td>\n",
              "      <td>Saturday</td>\n",
              "      <td>0 days 00:14:04</td>\n",
              "    </tr>\n",
              "    <tr>\n",
              "      <th>1</th>\n",
              "      <td>35634249</td>\n",
              "      <td>1</td>\n",
              "      <td>2017-04-11 14:53:28</td>\n",
              "      <td>2017-04-11 15:19:58</td>\n",
              "      <td>1</td>\n",
              "      <td>1.80</td>\n",
              "      <td>1</td>\n",
              "      <td>N</td>\n",
              "      <td>186</td>\n",
              "      <td>43</td>\n",
              "      <td>...</td>\n",
              "      <td>16.0</td>\n",
              "      <td>0.0</td>\n",
              "      <td>0.5</td>\n",
              "      <td>4.00</td>\n",
              "      <td>0.0</td>\n",
              "      <td>0.3</td>\n",
              "      <td>20.80</td>\n",
              "      <td>April</td>\n",
              "      <td>Tuesday</td>\n",
              "      <td>0 days 00:26:30</td>\n",
              "    </tr>\n",
              "    <tr>\n",
              "      <th>2</th>\n",
              "      <td>106203690</td>\n",
              "      <td>1</td>\n",
              "      <td>2017-12-15 07:26:56</td>\n",
              "      <td>2017-12-15 07:34:08</td>\n",
              "      <td>1</td>\n",
              "      <td>1.00</td>\n",
              "      <td>1</td>\n",
              "      <td>N</td>\n",
              "      <td>262</td>\n",
              "      <td>236</td>\n",
              "      <td>...</td>\n",
              "      <td>6.5</td>\n",
              "      <td>0.0</td>\n",
              "      <td>0.5</td>\n",
              "      <td>1.45</td>\n",
              "      <td>0.0</td>\n",
              "      <td>0.3</td>\n",
              "      <td>8.75</td>\n",
              "      <td>December</td>\n",
              "      <td>Friday</td>\n",
              "      <td>0 days 00:07:12</td>\n",
              "    </tr>\n",
              "    <tr>\n",
              "      <th>3</th>\n",
              "      <td>38942136</td>\n",
              "      <td>2</td>\n",
              "      <td>2017-05-07 13:17:59</td>\n",
              "      <td>2017-05-07 13:48:14</td>\n",
              "      <td>1</td>\n",
              "      <td>3.70</td>\n",
              "      <td>1</td>\n",
              "      <td>N</td>\n",
              "      <td>188</td>\n",
              "      <td>97</td>\n",
              "      <td>...</td>\n",
              "      <td>20.5</td>\n",
              "      <td>0.0</td>\n",
              "      <td>0.5</td>\n",
              "      <td>6.39</td>\n",
              "      <td>0.0</td>\n",
              "      <td>0.3</td>\n",
              "      <td>27.69</td>\n",
              "      <td>May</td>\n",
              "      <td>Sunday</td>\n",
              "      <td>0 days 00:30:15</td>\n",
              "    </tr>\n",
              "    <tr>\n",
              "      <th>4</th>\n",
              "      <td>30841670</td>\n",
              "      <td>2</td>\n",
              "      <td>2017-04-15 23:32:20</td>\n",
              "      <td>2017-04-15 23:49:03</td>\n",
              "      <td>1</td>\n",
              "      <td>4.37</td>\n",
              "      <td>1</td>\n",
              "      <td>N</td>\n",
              "      <td>4</td>\n",
              "      <td>112</td>\n",
              "      <td>...</td>\n",
              "      <td>16.5</td>\n",
              "      <td>0.5</td>\n",
              "      <td>0.5</td>\n",
              "      <td>0.00</td>\n",
              "      <td>0.0</td>\n",
              "      <td>0.3</td>\n",
              "      <td>17.80</td>\n",
              "      <td>April</td>\n",
              "      <td>Saturday</td>\n",
              "      <td>0 days 00:16:43</td>\n",
              "    </tr>\n",
              "    <tr>\n",
              "      <th>5</th>\n",
              "      <td>23345809</td>\n",
              "      <td>2</td>\n",
              "      <td>2017-03-25 20:34:11</td>\n",
              "      <td>2017-03-25 20:42:11</td>\n",
              "      <td>6</td>\n",
              "      <td>2.30</td>\n",
              "      <td>1</td>\n",
              "      <td>N</td>\n",
              "      <td>161</td>\n",
              "      <td>236</td>\n",
              "      <td>...</td>\n",
              "      <td>9.0</td>\n",
              "      <td>0.5</td>\n",
              "      <td>0.5</td>\n",
              "      <td>2.06</td>\n",
              "      <td>0.0</td>\n",
              "      <td>0.3</td>\n",
              "      <td>12.36</td>\n",
              "      <td>March</td>\n",
              "      <td>Saturday</td>\n",
              "      <td>0 days 00:08:00</td>\n",
              "    </tr>\n",
              "    <tr>\n",
              "      <th>6</th>\n",
              "      <td>37660487</td>\n",
              "      <td>2</td>\n",
              "      <td>2017-05-03 19:04:09</td>\n",
              "      <td>2017-05-03 20:03:47</td>\n",
              "      <td>1</td>\n",
              "      <td>12.83</td>\n",
              "      <td>1</td>\n",
              "      <td>N</td>\n",
              "      <td>79</td>\n",
              "      <td>241</td>\n",
              "      <td>...</td>\n",
              "      <td>47.5</td>\n",
              "      <td>1.0</td>\n",
              "      <td>0.5</td>\n",
              "      <td>9.86</td>\n",
              "      <td>0.0</td>\n",
              "      <td>0.3</td>\n",
              "      <td>59.16</td>\n",
              "      <td>May</td>\n",
              "      <td>Wednesday</td>\n",
              "      <td>0 days 00:59:38</td>\n",
              "    </tr>\n",
              "    <tr>\n",
              "      <th>7</th>\n",
              "      <td>69059411</td>\n",
              "      <td>2</td>\n",
              "      <td>2017-08-15 17:41:06</td>\n",
              "      <td>2017-08-15 18:03:05</td>\n",
              "      <td>1</td>\n",
              "      <td>2.98</td>\n",
              "      <td>1</td>\n",
              "      <td>N</td>\n",
              "      <td>237</td>\n",
              "      <td>114</td>\n",
              "      <td>...</td>\n",
              "      <td>16.0</td>\n",
              "      <td>1.0</td>\n",
              "      <td>0.5</td>\n",
              "      <td>1.78</td>\n",
              "      <td>0.0</td>\n",
              "      <td>0.3</td>\n",
              "      <td>19.58</td>\n",
              "      <td>August</td>\n",
              "      <td>Tuesday</td>\n",
              "      <td>0 days 00:21:59</td>\n",
              "    </tr>\n",
              "    <tr>\n",
              "      <th>8</th>\n",
              "      <td>8433159</td>\n",
              "      <td>2</td>\n",
              "      <td>2017-02-04 16:17:07</td>\n",
              "      <td>2017-02-04 16:29:14</td>\n",
              "      <td>1</td>\n",
              "      <td>1.20</td>\n",
              "      <td>1</td>\n",
              "      <td>N</td>\n",
              "      <td>234</td>\n",
              "      <td>249</td>\n",
              "      <td>...</td>\n",
              "      <td>9.0</td>\n",
              "      <td>0.0</td>\n",
              "      <td>0.5</td>\n",
              "      <td>0.00</td>\n",
              "      <td>0.0</td>\n",
              "      <td>0.3</td>\n",
              "      <td>9.80</td>\n",
              "      <td>February</td>\n",
              "      <td>Saturday</td>\n",
              "      <td>0 days 00:12:07</td>\n",
              "    </tr>\n",
              "    <tr>\n",
              "      <th>9</th>\n",
              "      <td>95294817</td>\n",
              "      <td>1</td>\n",
              "      <td>2017-11-10 15:20:29</td>\n",
              "      <td>2017-11-10 15:40:55</td>\n",
              "      <td>1</td>\n",
              "      <td>1.60</td>\n",
              "      <td>1</td>\n",
              "      <td>N</td>\n",
              "      <td>239</td>\n",
              "      <td>237</td>\n",
              "      <td>...</td>\n",
              "      <td>13.0</td>\n",
              "      <td>0.0</td>\n",
              "      <td>0.5</td>\n",
              "      <td>2.75</td>\n",
              "      <td>0.0</td>\n",
              "      <td>0.3</td>\n",
              "      <td>16.55</td>\n",
              "      <td>November</td>\n",
              "      <td>Friday</td>\n",
              "      <td>0 days 00:20:26</td>\n",
              "    </tr>\n",
              "  </tbody>\n",
              "</table>\n",
              "<p>10 rows × 21 columns</p>\n",
              "</div>\n",
              "    <div class=\"colab-df-buttons\">\n",
              "\n",
              "  <div class=\"colab-df-container\">\n",
              "    <button class=\"colab-df-convert\" onclick=\"convertToInteractive('df-1468e959-ab05-4930-acbe-e5f8505d67b6')\"\n",
              "            title=\"Convert this dataframe to an interactive table.\"\n",
              "            style=\"display:none;\">\n",
              "\n",
              "  <svg xmlns=\"http://www.w3.org/2000/svg\" height=\"24px\" viewBox=\"0 -960 960 960\">\n",
              "    <path d=\"M120-120v-720h720v720H120Zm60-500h600v-160H180v160Zm220 220h160v-160H400v160Zm0 220h160v-160H400v160ZM180-400h160v-160H180v160Zm440 0h160v-160H620v160ZM180-180h160v-160H180v160Zm440 0h160v-160H620v160Z\"/>\n",
              "  </svg>\n",
              "    </button>\n",
              "\n",
              "  <style>\n",
              "    .colab-df-container {\n",
              "      display:flex;\n",
              "      gap: 12px;\n",
              "    }\n",
              "\n",
              "    .colab-df-convert {\n",
              "      background-color: #E8F0FE;\n",
              "      border: none;\n",
              "      border-radius: 50%;\n",
              "      cursor: pointer;\n",
              "      display: none;\n",
              "      fill: #1967D2;\n",
              "      height: 32px;\n",
              "      padding: 0 0 0 0;\n",
              "      width: 32px;\n",
              "    }\n",
              "\n",
              "    .colab-df-convert:hover {\n",
              "      background-color: #E2EBFA;\n",
              "      box-shadow: 0px 1px 2px rgba(60, 64, 67, 0.3), 0px 1px 3px 1px rgba(60, 64, 67, 0.15);\n",
              "      fill: #174EA6;\n",
              "    }\n",
              "\n",
              "    .colab-df-buttons div {\n",
              "      margin-bottom: 4px;\n",
              "    }\n",
              "\n",
              "    [theme=dark] .colab-df-convert {\n",
              "      background-color: #3B4455;\n",
              "      fill: #D2E3FC;\n",
              "    }\n",
              "\n",
              "    [theme=dark] .colab-df-convert:hover {\n",
              "      background-color: #434B5C;\n",
              "      box-shadow: 0px 1px 3px 1px rgba(0, 0, 0, 0.15);\n",
              "      filter: drop-shadow(0px 1px 2px rgba(0, 0, 0, 0.3));\n",
              "      fill: #FFFFFF;\n",
              "    }\n",
              "  </style>\n",
              "\n",
              "    <script>\n",
              "      const buttonEl =\n",
              "        document.querySelector('#df-1468e959-ab05-4930-acbe-e5f8505d67b6 button.colab-df-convert');\n",
              "      buttonEl.style.display =\n",
              "        google.colab.kernel.accessAllowed ? 'block' : 'none';\n",
              "\n",
              "      async function convertToInteractive(key) {\n",
              "        const element = document.querySelector('#df-1468e959-ab05-4930-acbe-e5f8505d67b6');\n",
              "        const dataTable =\n",
              "          await google.colab.kernel.invokeFunction('convertToInteractive',\n",
              "                                                    [key], {});\n",
              "        if (!dataTable) return;\n",
              "\n",
              "        const docLinkHtml = 'Like what you see? Visit the ' +\n",
              "          '<a target=\"_blank\" href=https://colab.research.google.com/notebooks/data_table.ipynb>data table notebook</a>'\n",
              "          + ' to learn more about interactive tables.';\n",
              "        element.innerHTML = '';\n",
              "        dataTable['output_type'] = 'display_data';\n",
              "        await google.colab.output.renderOutput(dataTable, element);\n",
              "        const docLink = document.createElement('div');\n",
              "        docLink.innerHTML = docLinkHtml;\n",
              "        element.appendChild(docLink);\n",
              "      }\n",
              "    </script>\n",
              "  </div>\n",
              "\n",
              "\n",
              "<div id=\"df-98c7e874-4eb2-4bec-8396-ee08b74a304c\">\n",
              "  <button class=\"colab-df-quickchart\" onclick=\"quickchart('df-98c7e874-4eb2-4bec-8396-ee08b74a304c')\"\n",
              "            title=\"Suggest charts\"\n",
              "            style=\"display:none;\">\n",
              "\n",
              "<svg xmlns=\"http://www.w3.org/2000/svg\" height=\"24px\"viewBox=\"0 0 24 24\"\n",
              "     width=\"24px\">\n",
              "    <g>\n",
              "        <path d=\"M19 3H5c-1.1 0-2 .9-2 2v14c0 1.1.9 2 2 2h14c1.1 0 2-.9 2-2V5c0-1.1-.9-2-2-2zM9 17H7v-7h2v7zm4 0h-2V7h2v10zm4 0h-2v-4h2v4z\"/>\n",
              "    </g>\n",
              "</svg>\n",
              "  </button>\n",
              "\n",
              "<style>\n",
              "  .colab-df-quickchart {\n",
              "      --bg-color: #E8F0FE;\n",
              "      --fill-color: #1967D2;\n",
              "      --hover-bg-color: #E2EBFA;\n",
              "      --hover-fill-color: #174EA6;\n",
              "      --disabled-fill-color: #AAA;\n",
              "      --disabled-bg-color: #DDD;\n",
              "  }\n",
              "\n",
              "  [theme=dark] .colab-df-quickchart {\n",
              "      --bg-color: #3B4455;\n",
              "      --fill-color: #D2E3FC;\n",
              "      --hover-bg-color: #434B5C;\n",
              "      --hover-fill-color: #FFFFFF;\n",
              "      --disabled-bg-color: #3B4455;\n",
              "      --disabled-fill-color: #666;\n",
              "  }\n",
              "\n",
              "  .colab-df-quickchart {\n",
              "    background-color: var(--bg-color);\n",
              "    border: none;\n",
              "    border-radius: 50%;\n",
              "    cursor: pointer;\n",
              "    display: none;\n",
              "    fill: var(--fill-color);\n",
              "    height: 32px;\n",
              "    padding: 0;\n",
              "    width: 32px;\n",
              "  }\n",
              "\n",
              "  .colab-df-quickchart:hover {\n",
              "    background-color: var(--hover-bg-color);\n",
              "    box-shadow: 0 1px 2px rgba(60, 64, 67, 0.3), 0 1px 3px 1px rgba(60, 64, 67, 0.15);\n",
              "    fill: var(--button-hover-fill-color);\n",
              "  }\n",
              "\n",
              "  .colab-df-quickchart-complete:disabled,\n",
              "  .colab-df-quickchart-complete:disabled:hover {\n",
              "    background-color: var(--disabled-bg-color);\n",
              "    fill: var(--disabled-fill-color);\n",
              "    box-shadow: none;\n",
              "  }\n",
              "\n",
              "  .colab-df-spinner {\n",
              "    border: 2px solid var(--fill-color);\n",
              "    border-color: transparent;\n",
              "    border-bottom-color: var(--fill-color);\n",
              "    animation:\n",
              "      spin 1s steps(1) infinite;\n",
              "  }\n",
              "\n",
              "  @keyframes spin {\n",
              "    0% {\n",
              "      border-color: transparent;\n",
              "      border-bottom-color: var(--fill-color);\n",
              "      border-left-color: var(--fill-color);\n",
              "    }\n",
              "    20% {\n",
              "      border-color: transparent;\n",
              "      border-left-color: var(--fill-color);\n",
              "      border-top-color: var(--fill-color);\n",
              "    }\n",
              "    30% {\n",
              "      border-color: transparent;\n",
              "      border-left-color: var(--fill-color);\n",
              "      border-top-color: var(--fill-color);\n",
              "      border-right-color: var(--fill-color);\n",
              "    }\n",
              "    40% {\n",
              "      border-color: transparent;\n",
              "      border-right-color: var(--fill-color);\n",
              "      border-top-color: var(--fill-color);\n",
              "    }\n",
              "    60% {\n",
              "      border-color: transparent;\n",
              "      border-right-color: var(--fill-color);\n",
              "    }\n",
              "    80% {\n",
              "      border-color: transparent;\n",
              "      border-right-color: var(--fill-color);\n",
              "      border-bottom-color: var(--fill-color);\n",
              "    }\n",
              "    90% {\n",
              "      border-color: transparent;\n",
              "      border-bottom-color: var(--fill-color);\n",
              "    }\n",
              "  }\n",
              "</style>\n",
              "\n",
              "  <script>\n",
              "    async function quickchart(key) {\n",
              "      const quickchartButtonEl =\n",
              "        document.querySelector('#' + key + ' button');\n",
              "      quickchartButtonEl.disabled = true;  // To prevent multiple clicks.\n",
              "      quickchartButtonEl.classList.add('colab-df-spinner');\n",
              "      try {\n",
              "        const charts = await google.colab.kernel.invokeFunction(\n",
              "            'suggestCharts', [key], {});\n",
              "      } catch (error) {\n",
              "        console.error('Error during call to suggestCharts:', error);\n",
              "      }\n",
              "      quickchartButtonEl.classList.remove('colab-df-spinner');\n",
              "      quickchartButtonEl.classList.add('colab-df-quickchart-complete');\n",
              "    }\n",
              "    (() => {\n",
              "      let quickchartButtonEl =\n",
              "        document.querySelector('#df-98c7e874-4eb2-4bec-8396-ee08b74a304c button');\n",
              "      quickchartButtonEl.style.display =\n",
              "        google.colab.kernel.accessAllowed ? 'block' : 'none';\n",
              "    })();\n",
              "  </script>\n",
              "</div>\n",
              "\n",
              "    </div>\n",
              "  </div>\n"
            ],
            "application/vnd.google.colaboratory.intrinsic+json": {
              "type": "dataframe",
              "variable_name": "df"
            }
          },
          "metadata": {},
          "execution_count": 59
        }
      ]
    },
    {
      "cell_type": "code",
      "source": [],
      "metadata": {
        "id": "f8LkYkpzAYx-"
      },
      "execution_count": null,
      "outputs": []
    }
  ]
}